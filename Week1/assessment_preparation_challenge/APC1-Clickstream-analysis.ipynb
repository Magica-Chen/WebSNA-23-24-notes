{
 "cells": [
  {
   "cell_type": "markdown",
   "id": "851b052b",
   "metadata": {},
   "source": [
    "# Assessment Preparation Challenge 1"
   ]
  },
  {
   "cell_type": "markdown",
   "id": "807c47db",
   "metadata": {},
   "source": [
    "* These challenges are optional, are not marked and are just for you.\n",
    "* But they will prepare you for the course’s final assesment. If you complete all of the challenges, you will have a much easier to do the final assesment.\n",
    "* you will **NOT** be given answers to them, because large parts of the assesment will be very simmilar and if we gave you the answers you could copy-paste parts of it for assesment which would defeat the purpose of the assesment :)"
   ]
  },
  {
   "cell_type": "markdown",
   "id": "6ffc2dc0",
   "metadata": {},
   "source": [
    "## Challenge 1"
   ]
  },
  {
   "cell_type": "markdown",
   "id": "032d689a",
   "metadata": {},
   "source": [
    "Questions:\n",
    "* Is there something wrong with out website checkout process on mobile phones? \n",
    "* Are our adverts on facebook better than those on linkedin? \n",
    "* Analyse clickstream and user profiles and produce an answer."
   ]
  },
  {
   "cell_type": "markdown",
   "id": "9f53dd7b",
   "metadata": {},
   "source": [
    "Further notes:\n",
    "* you are given a file visitor_data.csv in which you will find records of 140.000 visits to an anonymised ecommerce website.\n",
    "* each row in the file tells you where they came from (eg. fb_advert, or google) and what is their platform ( android, windows)\n",
    "* each next data item is a row tells you one page they visited. eg. one row in a file could look like this:\n",
    "  - `facebook_advert`\n",
    "  - `windows`, \n",
    "  - `advert_landing`, \n",
    "  - `pricing`, \n",
    "  - `purchase_start`, \n",
    "  - `purchese_success`"
   ]
  },
  {
   "cell_type": "markdown",
   "id": "fd0e11e5",
   "metadata": {},
   "source": [
    "The company has just run a very expensive advertising campaign on multiple platforms, which pointed people to a custom-built advert_landing page. This way customers were meant to be pointed to a targetted messageing, not just landing on a home page."
   ]
  },
  {
   "cell_type": "markdown",
   "id": "7e16c62c",
   "metadata": {},
   "source": [
    "Analyse the clickstream data (what pages they visited) to answer following specific questions:\n",
    "1. Are people on mobile platforms (android, ios) more likely to drop out (after purchase_start not go to purchese_success) than those on desktop platforms (windows, mac)? What would that mean?\n",
    "2. Which sources have the highest `bounce rate`, `conversion` and `longest visits`?\n",
    "3. Was advertising on facebook succesful, given that advertising on facebook costs us £0.10 per visitor, and average gains on purchese_success is £10. Did we break even?"
   ]
  },
  {
   "cell_type": "code",
   "execution_count": null,
   "id": "bf7a5249",
   "metadata": {
    "scrolled": false
   },
   "outputs": [],
   "source": [
    "# Here are some code to get you started, ^V^\n",
    "\n",
    "# you can turn data into a dict     \n",
    "def turn_line_of_file_into_dict(line_of_file):\n",
    "    line_of_file = line_of_file.rstrip(\"\\n\")\n",
    "    data_items = line_of_file.split(\",\")\n",
    "    return {'source': data_items[0],\n",
    "            'platform': data_items[1],\n",
    "            'clickstream': data_items[2:],\n",
    "           }  \n",
    "    \n",
    "# or into objects\n",
    "class Visit:\n",
    "    def __init__(self, line_of_file):\n",
    "        line_of_file = line_of_file.rstrip(\"\\n\")\n",
    "        data_items = line_of_file.split(\",\")\n",
    "        self.source = data_items[0]\n",
    "        self.platform = data_items[1]\n",
    "        self.clickstream = data_items[2:]\n",
    "        \n",
    "    def did_purchase(self):\n",
    "        return 'purchese_success' in self.clickstream\n",
    "        \n",
    "    \n",
    "    \n",
    "    def __repr__(self):\n",
    "        return f\"Visitor on {self.platform} \\tfrom {self.source}\\tvisited {len(self.clickstream)}\"\n",
    "\n",
    "# or anything else you prefer. maybe Pandas/Numpys?\n",
    "\n",
    "all_data = []\n",
    "\n",
    "with open('visitor_data.csv', 'r') as file:\n",
    "    lines = file.readlines()[1:]  #ignore first line\n",
    "    for line in lines:\n",
    "        data_item_dict = turn_line_of_file_into_dict(line)\n",
    "        print(data_item_dict)\n",
    "        data_item_object = Visit(line)\n",
    "        print(data_item_object)\n",
    "file.close() \n",
    "\n",
    "# #     Other approaches\n",
    "#     line = file.readline() #ignore first line\n",
    "#     while line:\n",
    "#         line = file.readline()\n",
    "#         data_item_dict = turn_line_of_file_into_dict(line)\n",
    "#         print(data_item_dict)\n",
    "        \n",
    "#         data_item_object = Visit(line)\n",
    "#         print(data_item_object)\n",
    "\n",
    "\"\"\"\n",
    "\n",
    "here you could append all dicts or objects to all_data, please consider your own method to append\n",
    "\n",
    "\"\"\"   "
   ]
  },
  {
   "cell_type": "code",
   "execution_count": null,
   "id": "a11b5372",
   "metadata": {},
   "outputs": [],
   "source": []
  }
 ],
 "metadata": {
  "kernelspec": {
   "display_name": "Python 3",
   "language": "python",
   "name": "python3"
  },
  "language_info": {
   "codemirror_mode": {
    "name": "ipython",
    "version": 3
   },
   "file_extension": ".py",
   "mimetype": "text/x-python",
   "name": "python",
   "nbconvert_exporter": "python",
   "pygments_lexer": "ipython3",
   "version": "3.8.8"
  }
 },
 "nbformat": 4,
 "nbformat_minor": 5
}
