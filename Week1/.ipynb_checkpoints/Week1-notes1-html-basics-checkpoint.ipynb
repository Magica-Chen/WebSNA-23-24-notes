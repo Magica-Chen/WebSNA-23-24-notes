{
 "cells": [
  {
   "cell_type": "markdown",
   "id": "eb3cc272",
   "metadata": {},
   "source": [
    "#  Week 1: Web and Web Analytics"
   ]
  },
  {
   "cell_type": "markdown",
   "id": "8ba88fbf",
   "metadata": {},
   "source": [
    "## Scraping an html page (loading and searching it's contents)"
   ]
  },
  {
   "cell_type": "markdown",
   "id": "d6461cbd",
   "metadata": {},
   "source": [
    "* Local: saved in a file on your computer\n",
    "* Remote: somewhere on the web"
   ]
  },
  {
   "cell_type": "markdown",
   "id": "6ac056db",
   "metadata": {},
   "source": [
    "To fully understand this notebook, please open `example_html.html` file in another tab, and open it's `example_html.html`'s source code in a third tab (or even better: in browser's view > developer tools). You will see in a minute what is the exact address in that file."
   ]
  },
  {
   "cell_type": "markdown",
   "id": "84395eee",
   "metadata": {},
   "source": [
    "For scraping, we need a few of different libraries, most notably Beautifulsoup. Let's first import these:"
   ]
  },
  {
   "cell_type": "code",
   "execution_count": 2,
   "id": "b4567524",
   "metadata": {},
   "outputs": [],
   "source": [
    "import os\n",
    "from urllib.request import urlopen\n",
    "from bs4 import BeautifulSoup"
   ]
  },
  {
   "cell_type": "markdown",
   "id": "3404781d",
   "metadata": {},
   "source": [
    "We can simply enter a web page as a string and open it. Afterwards, BeautifulSoup converts it into a BeautifulSoup object which has many interesting functions and attributes:"
   ]
  },
  {
   "cell_type": "markdown",
   "id": "d9539563",
   "metadata": {},
   "source": [
    "### Local Website"
   ]
  },
  {
   "cell_type": "code",
   "execution_count": 20,
   "id": "bcd481e5",
   "metadata": {},
   "outputs": [],
   "source": [
    "# for now we use a local file (os.getcwd() gets the Current Working Directory, aka. the folder you're in)\n",
    "file_url = \"file:///\"+os.getcwd()+\"/example_html.html\"\n",
    "website_source_code = urlopen(file_url)\n",
    "\n",
    "# convert the website's content, for this a parser is needed. In this case a html parser\n",
    "soup = BeautifulSoup(website_source_code, 'html.parser')\n",
    "\n",
    "# # Convert the website's content using a parser, we can also use \"lxml\"\n",
    "# soup = BeautifulSoup(website, 'lxml')"
   ]
  },
  {
   "cell_type": "code",
   "execution_count": 23,
   "id": "d13a6457",
   "metadata": {
    "scrolled": true
   },
   "outputs": [
    {
     "name": "stdout",
     "output_type": "stream",
     "text": [
      "<!DOCTYPE html>\n",
      "<html>\n",
      " <head>\n",
      "  <style>\n",
      "   .hipster {\n",
      "\tbackground-color:black;\n",
      "\tcolor:red;\n",
      "\tpadding:22px;\n",
      "}\n",
      "  </style>\n",
      "  <script type=\"text/javascript\">\n",
      "   var numberOfClicks = 0;\n",
      "  function clickedButton()\n",
      "  {\n",
      "      numberOfClicks += 1;\n",
      "    document.getElementById(\"clickableButton\").text=\"GOOD JOB! You clicked me \"+numberOfClicks+\" times. If you reload the page I will go back to the original state :)\"; \n",
      "  }\n",
      "  </script>\n",
      " </head>\n",
      " <body>\n",
      "  <h1 title=\"A header\">\n",
      "   Example for Media and Web Analytics\n",
      "  </h1>\n",
      "  <p>\n",
      "   Here you typically see some text.\n",
      "Ocassionaly, an URL is present\n",
      "   <a href=\"http://www.ed.ac.uk\">\n",
      "    UoE\n",
      "   </a>\n",
      "  </p>\n",
      "  <h1 title=\"A header\">\n",
      "   Some other stuff\n",
      "  </h1>\n",
      "  <h2>\n",
      "   3 Rows and 3 Columns:\n",
      "  </h2>\n",
      "  <table>\n",
      "   <tr>\n",
      "    <td>\n",
      "     100\n",
      "    </td>\n",
      "    <td>\n",
      "     200\n",
      "    </td>\n",
      "    <td>\n",
      "     300\n",
      "    </td>\n",
      "   </tr>\n",
      "   <tr id=\"middle_row\">\n",
      "    <td>\n",
      "     400\n",
      "    </td>\n",
      "    <td>\n",
      "     500\n",
      "    </td>\n",
      "    <td>\n",
      "     600\n",
      "    </td>\n",
      "   </tr>\n",
      "   <tr>\n",
      "    <td>\n",
      "     700\n",
      "    </td>\n",
      "    <td>\n",
      "     800\n",
      "    </td>\n",
      "    <td>\n",
      "     900\n",
      "    </td>\n",
      "   </tr>\n",
      "  </table>\n",
      "  <a href=\"#\" id=\"clickableButton\" onclick=\"clickedButton()\" target=\"none\">\n",
      "   CLICK ME!\n",
      "  </a>\n",
      "  <div class=\"hipster\">\n",
      "   <h2>\n",
      "    A Dangerous-Looking Header\n",
      "   </h2>\n",
      "   <p>\n",
      "    I look like a paragraph Kylo Ren could have written.\n",
      "   </p>\n",
      "  </div>\n",
      "  <div class=\"hipster\">\n",
      "   <h2>\n",
      "    Another Dangerous-Looking Header\n",
      "   </h2>\n",
      "   <p>\n",
      "    This one is not as scary.\n",
      "   </p>\n",
      "  </div>\n",
      " </body>\n",
      "</html>\n"
     ]
    }
   ],
   "source": [
    "# here's a complete html of the page, but it's easier to read if you open it's source using the url above\n",
    "print(soup.prettify())"
   ]
  },
  {
   "cell_type": "code",
   "execution_count": 7,
   "id": "503b4ee2",
   "metadata": {},
   "outputs": [
    {
     "name": "stdout",
     "output_type": "stream",
     "text": [
      "Complete tag code:  <h1 title=\"A header\">Example for Media and Web Analytics</h1>\n",
      "Just the text in the tag:  Example for Media and Web Analytics\n",
      "Complete tag code:  <h1 title=\"A header\">Some other stuff</h1>\n",
      "Just the text in the tag:  Some other stuff\n"
     ]
    }
   ],
   "source": [
    "# .find_all retrieves all tags containing 'h1':\n",
    "h1Tags = soup.find_all('h1')\n",
    "for h1 in h1Tags:\n",
    "    print('Complete tag code: ', h1)\n",
    "    print(\"Just the text in the tag: \", h1.text)"
   ]
  },
  {
   "cell_type": "markdown",
   "id": "43217984",
   "metadata": {},
   "source": [
    "However, it does not work with attributes of tags:"
   ]
  },
  {
   "cell_type": "code",
   "execution_count": 8,
   "id": "929ee730",
   "metadata": {},
   "outputs": [],
   "source": [
    "titleTags = soup.find_all('title')\n",
    "for title in titleTags:\n",
    "    print('Complete tag code: ', title)\n",
    "    print(\"Just the text in the tag: \", title.text)\n",
    "    \n",
    "# nothing will be printed. there are no tags <title> </title> there"
   ]
  },
  {
   "cell_type": "code",
   "execution_count": null,
   "id": "8a50043f",
   "metadata": {},
   "outputs": [],
   "source": []
  },
  {
   "cell_type": "markdown",
   "id": "4148c8c0",
   "metadata": {},
   "source": [
    "## Understanding the html is all about finding components you need:"
   ]
  },
  {
   "cell_type": "markdown",
   "id": "ccce23f0",
   "metadata": {},
   "source": [
    "* .find_all( ) will find all things that match criteria, in a **list**\n",
    "* .find( ) will find just the **first** item that mathes the criteria"
   ]
  },
  {
   "cell_type": "markdown",
   "id": "10d52022",
   "metadata": {},
   "source": [
    "You can use it on the whole website, like `a_table = soup.find(\"table\")` or on an element you found before `rows = a_table.find(\"tr\")`"
   ]
  },
  {
   "cell_type": "markdown",
   "id": "6e05760b",
   "metadata": {},
   "source": [
    "You can seek for types of tags, classes or ids\n",
    "* `soup.find(\"h1\")`, \n",
    "* `soup.find(id=\"main_navigation\")`,\n",
    "* `soup.find(class=\"warning_message\")`"
   ]
  },
  {
   "cell_type": "markdown",
   "id": "51351d45",
   "metadata": {},
   "source": [
    "But it is very frequent to fetch an element by its unique id:"
   ]
  },
  {
   "cell_type": "code",
   "execution_count": 24,
   "id": "91709bc7",
   "metadata": {},
   "outputs": [
    {
     "name": "stdout",
     "output_type": "stream",
     "text": [
      "Complete tag code:  <tr id=\"middle_row\">\n",
      "<td>400</td>\n",
      "<td>500</td>\n",
      "<td>600</td>\n",
      "</tr>\n",
      "Just the text in the tag:  \n",
      "400\n",
      "500\n",
      "600\n",
      "\n"
     ]
    }
   ],
   "source": [
    "middle_row = soup.find(id='middle_row')\n",
    "\n",
    "print('Complete tag code: ', middle_row)\n",
    "print(\"Just the text in the tag: \", middle_row.text)"
   ]
  },
  {
   "cell_type": "markdown",
   "id": "faf9b0b0",
   "metadata": {},
   "source": [
    "## Find children:"
   ]
  },
  {
   "cell_type": "markdown",
   "id": "3cca63b3",
   "metadata": {},
   "source": [
    "When, like above, a tag contains some children (tags inside it) you can extract them into a list. The example would be above table row `<tr></tr>` includes three table data `<td></td>`"
   ]
  },
  {
   "cell_type": "markdown",
   "id": "f9a1bb1c",
   "metadata": {},
   "source": [
    "`.findChildren()` will give you alist with all tags inside of a given tag"
   ]
  },
  {
   "cell_type": "markdown",
   "id": "cae897d9",
   "metadata": {},
   "source": [
    "You can specify exactly which chhildre, if you want, like with the `.find()`. So you could use \n",
    "* `.findChildren(\"tr\")` or\n",
    "* `.findChildren(class=\"warning_message\")`"
   ]
  },
  {
   "cell_type": "code",
   "execution_count": 25,
   "id": "334efab1",
   "metadata": {},
   "outputs": [
    {
     "name": "stdout",
     "output_type": "stream",
     "text": [
      "Complete tag code:  <td>400</td> Just the text in the tag:  400\n",
      "Complete tag code:  <td>500</td> Just the text in the tag:  500\n",
      "Complete tag code:  <td>600</td> Just the text in the tag:  600\n"
     ]
    }
   ],
   "source": [
    "middle_row = soup.find(id='middle_row')\n",
    "cells_in_the_row = middle_row.findChildren()\n",
    "for cell in cells_in_the_row:\n",
    "    print('Complete tag code: ', cell, \"Just the text in the tag: \", cell.text)"
   ]
  },
  {
   "cell_type": "markdown",
   "id": "a05356a0",
   "metadata": {},
   "source": [
    "You can dive deeper into certain tags, for example here you look for all divs from the (CSS) class called hipster:"
   ]
  },
  {
   "cell_type": "code",
   "execution_count": 26,
   "id": "c3834cd5",
   "metadata": {},
   "outputs": [
    {
     "name": "stdout",
     "output_type": "stream",
     "text": [
      "whole tag:\n",
      " <div class=\"hipster\">\n",
      "<h2>A Dangerous-Looking Header</h2>\n",
      "<p>\n",
      "I look like a paragraph Kylo Ren could have written.\n",
      "</p>\n",
      "</div> \n",
      "\n",
      "Just the text:  \n",
      "A Dangerous-Looking Header\n",
      "\n",
      "I look like a paragraph Kylo Ren could have written.\n",
      "\n",
      "\n",
      "whole tag:\n",
      " <div class=\"hipster\">\n",
      "<h2>Another Dangerous-Looking Header</h2>\n",
      "<p>\n",
      "This one is not as scary.\n",
      "</p>\n",
      "</div> \n",
      "\n",
      "Just the text:  \n",
      "Another Dangerous-Looking Header\n",
      "\n",
      "This one is not as scary.\n",
      "\n",
      "\n"
     ]
    }
   ],
   "source": [
    "class_elements = soup.find_all(\"div\", {\"class\" : \"hipster\" })\n",
    "for element in class_elements:\n",
    "    print('whole tag:\\n', str(element), '\\n')\n",
    "    print('Just the text: ', element.text)"
   ]
  },
  {
   "cell_type": "markdown",
   "id": "cd98c357",
   "metadata": {},
   "source": [
    "Getting all the elements out of the table:"
   ]
  },
  {
   "cell_type": "code",
   "execution_count": 27,
   "id": "770a4504",
   "metadata": {},
   "outputs": [
    {
     "name": "stdout",
     "output_type": "stream",
     "text": [
      "Row: 0\n",
      "whole html: <td>100</td> \tJust content: 100\n",
      "whole html: <td>200</td> \tJust content: 200\n",
      "whole html: <td>300</td> \tJust content: 300\n",
      "Row: 1\n",
      "whole html: <td>400</td> \tJust content: 400\n",
      "whole html: <td>500</td> \tJust content: 500\n",
      "whole html: <td>600</td> \tJust content: 600\n",
      "Row: 2\n",
      "whole html: <td>700</td> \tJust content: 700\n",
      "whole html: <td>800</td> \tJust content: 800\n",
      "whole html: <td>900</td> \tJust content: 900\n"
     ]
    }
   ],
   "source": [
    "# list all tables, since we only have 1, use the first in the list at index 0\n",
    "my_table = soup.find_all('table')[0]\n",
    "# or just use: my_table = soup.find('table')\n",
    "\n",
    "# loop the rows and keep the row number\n",
    "row_num = 0\n",
    "for row in my_table.find_all('tr'):\n",
    "    print(\"Row: \"+str(row_num))\n",
    "    row_num = row_num+1\n",
    "\n",
    "    #loop the cells in the row\n",
    "    for cell in row.find_all('td'):\n",
    "        print(\"whole html:\", str(cell)+\" \\tJust content: \"+cell.text)\n",
    "        \n",
    "# if you'd like, try to change this code to use .findChildren( ) rather t"
   ]
  },
  {
   "cell_type": "markdown",
   "id": "c8738651",
   "metadata": {},
   "source": [
    "## Minitask: Now attempt to scrape something from a real online website:"
   ]
  },
  {
   "cell_type": "markdown",
   "id": "d8d2bb3a",
   "metadata": {},
   "source": [
    "Use the above code to make a list of all the degrees available in business school of University of Edinburgh.\n",
    "* You will need to get the source of the page the list is on and feed it into the breautiful soup (see code above). (use this url instead of our demo website file://..... use this: https://www.ed.ac.uk/studying/undergraduate/degrees/index.php?action=view&code=12)\n",
    "* Get the html component that holds all the degrees. Use developer tools to identify what type of component it is (hint: ul stamds for \"unordered list\"). Does this component have a class or an id? How would you get a component when you know it's id? (hint: proxy_degreeList )\n",
    "* What type of a tag are the actual names of degrees in? (div, a, p, or something else) hint: what tag surround the name of the course?\n",
    "* Grab children of that type from the component with all names and in a loop, extract only the text of each of them. And print them."
   ]
  },
  {
   "cell_type": "markdown",
   "id": "4c7a8159",
   "metadata": {},
   "source": [
    "I am posting the solution lower down, but do try to solve it by yourself first!"
   ]
  },
  {
   "cell_type": "code",
   "execution_count": null,
   "id": "49b56631",
   "metadata": {},
   "outputs": [],
   "source": [
    "# copy-paste relevant parts of the code from above to start:"
   ]
  },
  {
   "cell_type": "markdown",
   "id": "2962b7c7",
   "metadata": {},
   "source": [
    "Only uncover the solutions once you tried to complete the task:\n",
    "\n",
    "CLICK HERE TO SEE THE THE HINT 1. \n",
    "1. You will need to get the source of the page the list is on and feed it into the breautiful soup (see code above). (use this url instead of our demo website file://..... use this: https://www.ed.ac.uk/studying/undergraduate/degrees/index.php?action=view&code=12)\n",
    "``` \n",
    "file_url = \"https://www.ed.ac.uk/studying/undergraduate/degrees/index.php?action=view&code=12\" \n",
    "website_source_code = urlopen(file_url) \n",
    "soup_degrees_website = BeautifulSoup(website_source_code, 'html.parser') \n",
    "``` \n",
    "\n",
    "CLICK HERE TO SEE THE THE HINT 2. \n",
    "\n",
    "2. get the html component that holds all the degrees. Use developer tools to identify what type of component it is (hint: ul stamds for \"unordered list\"). \n",
    "Does this component have a class or an id? How would you get a component when you know it's id? (hint: proxy_degreeList )\n",
    "``` \n",
    "degrees = soup_degrees_website.find(id='proxy_degreeList')\n",
    "``` \n",
    "\n",
    "CLICK HERE TO SEE THE THE HINT 3. \n",
    "\n",
    "3. What type of a tag are the actual names of degrees in? (div, a, p, or something else) hint: what tag surround the name of the course? \n",
    "``` \n",
    "for list_item in degrees.findChildren(\"a\"): \n",
    "``` \n",
    "\n",
    "CLICK HERE TO SEE THE THE HINT 4. \n",
    "\n",
    "4. Grab children of that type from the component with all names and in a loop, extract only the text of each of them. And print them. \n",
    "``` \n",
    "print(\"Degree Name:\", list_item.text) \n",
    "```"
   ]
  },
  {
   "cell_type": "code",
   "execution_count": 28,
   "id": "60af8034",
   "metadata": {},
   "outputs": [],
   "source": [
    "file_url = \"https://www.ed.ac.uk/studying/undergraduate/degrees/index.php?action=view&code=12\" \n",
    "website_source_code = urlopen(file_url) \n",
    "soup_degrees_website = BeautifulSoup(website_source_code, 'html.parser') "
   ]
  },
  {
   "cell_type": "code",
   "execution_count": 29,
   "id": "1bc87f16",
   "metadata": {},
   "outputs": [],
   "source": [
    "degrees = soup_degrees_website.find(id='proxy_degreeList')"
   ]
  },
  {
   "cell_type": "code",
   "execution_count": 30,
   "id": "2a17723e",
   "metadata": {},
   "outputs": [
    {
     "name": "stdout",
     "output_type": "stream",
     "text": [
      "Degree Name: Business and Economics (MA) NL11\n",
      "Degree Name: Business and Law (MA) NM11\n",
      "Degree Name: Business Management (MA) N100\n",
      "Degree Name: Business with Decision Analytics (MA) NN12\n",
      "Degree Name: Business with Enterprise and Innovation (MA) N1N2\n",
      "Degree Name: Business with Human Resource Management (MA) N1N6\n",
      "Degree Name: Business with Marketing (MA) N1N5\n",
      "Degree Name: Business with Strategic Economics (MA) N1L1\n",
      "Degree Name: Finance and Business (MA) NN13\n",
      "Degree Name: International Business (MA) N120\n",
      "Degree Name: International Business with Chinese (MA) N1T1\n",
      "Degree Name: International Business with French (MA) N1R1\n",
      "Degree Name: International Business with German (MA) N1R2\n",
      "Degree Name: International Business with Italian (MA) N1R3\n",
      "Degree Name: International Business with Japanese (MA) N1T2\n",
      "Degree Name: International Business with Spanish (MA) N1R4\n"
     ]
    }
   ],
   "source": [
    "for list_item in degrees.findChildren(\"a\"):\n",
    "    print(\"Degree Name:\", list_item.text) "
   ]
  },
  {
   "cell_type": "code",
   "execution_count": null,
   "id": "fadcc965",
   "metadata": {},
   "outputs": [],
   "source": []
  }
 ],
 "metadata": {
  "kernelspec": {
   "display_name": "Python 3 (ipykernel)",
   "language": "python",
   "name": "python3"
  },
  "language_info": {
   "codemirror_mode": {
    "name": "ipython",
    "version": 3
   },
   "file_extension": ".py",
   "mimetype": "text/x-python",
   "name": "python",
   "nbconvert_exporter": "python",
   "pygments_lexer": "ipython3",
   "version": "3.9.13"
  }
 },
 "nbformat": 4,
 "nbformat_minor": 5
}
