{
 "cells": [
  {
   "cell_type": "markdown",
   "id": "2d198277",
   "metadata": {},
   "source": [
    "**Disclaimer**: This educational content, including any code examples, is provided for instructional purposes only. The author does not endorse or encourage the unauthorised or illegal scraping of websites.\n",
    "\n",
    "While Python with releveant libraries can be used for web scraping, it's crucial to conduct scraping activities in compliance with applicable laws, the website's terms of service, and ethical considerations. Always review and respect the rules set by the website you are scraping to ensure legal and responsible data collection practices."
   ]
  },
  {
   "cell_type": "markdown",
   "id": "05f06447",
   "metadata": {},
   "source": [
    "# Scraping reviews using Selenium"
   ]
  },
  {
   "cell_type": "markdown",
   "id": "a60ef3a1",
   "metadata": {},
   "source": [
    "Here is another example of how Selenium can be used to interact with websites making use of Ajax (Asynchronous JavaScript):"
   ]
  },
  {
   "cell_type": "markdown",
   "id": "5fe9de56",
   "metadata": {},
   "source": [
    "## Selenium is a chrome automation framework"
   ]
  },
  {
   "cell_type": "markdown",
   "id": "c871c737",
   "metadata": {},
   "source": [
    "It will enable us to tell chrome:\n",
    "* go to page bbc.co.uk/weather\n",
    "* \"click the work 'next'\"\n",
    "* scroll down"
   ]
  },
  {
   "cell_type": "markdown",
   "id": "ad4444ce",
   "metadata": {},
   "source": [
    "Selenium will basically open a simplified version of Chrome, for a few seconds, use it and close it afterwards. You might even see it flash on your screen quickly. Then we will use beautiful soup to understand the code."
   ]
  },
  {
   "cell_type": "markdown",
   "id": "354eacfc",
   "metadata": {},
   "source": [
    "## BeautifulSoup is an HTML parsing framework"
   ]
  },
  {
   "cell_type": "markdown",
   "id": "c999f83e",
   "metadata": {},
   "source": [
    "It will enable us to:\n",
    "* copy the html of the tags eg. div, table\n",
    "* extract text from these tags"
   ]
  },
  {
   "cell_type": "markdown",
   "id": "40f72416",
   "metadata": {},
   "source": [
    "## Getting selenium (don't skip this!)-- You need to download the chromedrive by yourself."
   ]
  },
  {
   "cell_type": "markdown",
   "id": "08ab020b",
   "metadata": {},
   "source": [
    "1. find out which version of chrome you have, in chrome open page: chrome://settings/help\n",
    "2. Go to the list of selenium versions and find folder with your version (eg. 120.0.6099.217). However, the latest version of ChromeDriver is 114.0.5735.90.\n",
    "**If you are using Chrome version 115 or newer, please consult the [Chrome for Testing availability dashboard](https://googlechromelabs.github.io/chrome-for-testing/). This page provides convenient JSON endpoints for specific ChromeDriver version downloading.**\n",
    "If your verison is older than 114.0.5735.90, please find you version of ChromeDriver on https://chromedriver.storage.googleapis.com/index.html\n",
    "3. Go into the folder for your version and download the zip file with the version for your operating system (most likely `chromedriver_mac64.zip` or `chromedriver_win32.zip` ).\n",
    "4. unzip that file on yoru machine and put it in the folder where this notebook is. unzipped folder and rename it to `chromedriver`. **PLESE DO FORGET TO RENAME IT**.!"
   ]
  },
  {
   "cell_type": "code",
   "execution_count": null,
   "id": "530b3964",
   "metadata": {
    "ExecuteTime": {
     "end_time": "2024-01-15T15:43:10.738731Z",
     "start_time": "2024-01-15T15:42:55.019401Z"
    },
    "scrolled": true
   },
   "outputs": [],
   "source": [
    "## If you have not installed selenium yet, please uncomment the following line\n",
    "# !pip install selenium"
   ]
  },
  {
   "cell_type": "code",
   "execution_count": null,
   "id": "8df1f2ef",
   "metadata": {
    "ExecuteTime": {
     "end_time": "2024-01-15T15:43:38.642978Z",
     "start_time": "2024-01-15T15:43:38.517312Z"
    }
   },
   "outputs": [],
   "source": [
    "import time\n",
    "from bs4 import BeautifulSoup\n",
    "from selenium import webdriver\n",
    "from selenium.webdriver.support.ui import WebDriverWait\n",
    "from selenium.webdriver.support import expected_conditions as EC\n",
    "from selenium.webdriver.common.keys import Keys\n",
    "from selenium.webdriver.common.by import By\n",
    "from selenium.common.exceptions import NoSuchElementException"
   ]
  },
  {
   "cell_type": "code",
   "execution_count": null,
   "id": "e2851b4e",
   "metadata": {
    "ExecuteTime": {
     "end_time": "2024-01-15T15:43:42.481008Z",
     "start_time": "2024-01-15T15:43:42.476728Z"
    }
   },
   "outputs": [],
   "source": [
    "# define method that will create a browser, suitable to your operating system\n",
    "import sys\n",
    "def get_a_browser():\n",
    "    if sys.platform.startswith('win32') or sys.platform.startswith('cygwin'):\n",
    "        return webdriver.Chrome() # windows\n",
    "    else:\n",
    "        return webdriver.Chrome('./chromedriver') # mac"
   ]
  },
  {
   "cell_type": "markdown",
   "id": "f9069dcb",
   "metadata": {},
   "source": [
    "**Important Note**: allowing your system to run `chromedriver`. This needs to be done just once."
   ]
  },
  {
   "cell_type": "markdown",
   "id": "863764a5",
   "metadata": {},
   "source": [
    "If you are on a mac, you will need to allow your system to use chromium. Run below cell, and you will likely see a warning the first time, click 'cancel' (don't click 'Delete')."
   ]
  },
  {
   "cell_type": "markdown",
   "id": "ee0c6866",
   "metadata": {},
   "source": [
    "After you see the warning, go into `Settings > Security&Privacy > General` and `\"Allow Anyway\"`."
   ]
  },
  {
   "cell_type": "markdown",
   "id": "7fea6539",
   "metadata": {},
   "source": [
    "On a windows pc the process will be simpler. When asked you'll need to allow computer to use the `chrome.exe` file in the folder of `chromedriver` folder."
   ]
  },
  {
   "cell_type": "markdown",
   "id": "36c27429",
   "metadata": {},
   "source": [
    "## Task: let's try to scrape an interactive website"
   ]
  },
  {
   "cell_type": "markdown",
   "id": "5b4613f1",
   "metadata": {},
   "source": [
    "What will be the weather in Edinburgh of next Sunday?"
   ]
  },
  {
   "cell_type": "markdown",
   "id": "b0ead1c7",
   "metadata": {},
   "source": [
    "You need a web browser, pen and paper!"
   ]
  },
  {
   "cell_type": "markdown",
   "id": "fa3a5724",
   "metadata": {},
   "source": [
    "In this task you will be asked to do something by yourself (using your web browser, mouse and keyboard), and then you will see how you cen program `Selenium` to do it for you."
   ]
  },
  {
   "cell_type": "markdown",
   "id": "606e75e3",
   "metadata": {},
   "source": [
    "**Use www.bbc.co.uk/weather to find out what time will be the sunrise in EDINBURGH next Sunday.**"
   ]
  },
  {
   "cell_type": "markdown",
   "id": "4e9589f2",
   "metadata": {},
   "source": [
    "Do it at least 3 times and observe all the steps you are taking. Make a very detailed list of all the steps, as if you had to describe them to someone over the phone without seeing their screen. See example below."
   ]
  },
  {
   "cell_type": "markdown",
   "id": "04f3dbe8",
   "metadata": {},
   "source": [
    "it will look a bit like this:\n",
    "* ok, go to www.bbc.co.uk/weather and wait for it to load\n",
    "* scroll down, do you see a link with words 'Edinburgh' on it? Click it.\n",
    "* Wait a minute for it to load.\n",
    "* ok, now scroll down and ..."
   ]
  },
  {
   "cell_type": "markdown",
   "id": "4c635dc0",
   "metadata": {},
   "source": [
    "When you are done with this exercise, we will try to instruct Selenium (Chrome automation tool) to do it for us. Do you think you can try to use Chrome Dev tools to make yoru steps more specific? eg. Instead of saying \"copy text in that bold link next to the word Sunrise\" try to say \"copy text from the html span item with a class `wr-c-astro-data__time`\"."
   ]
  },
  {
   "cell_type": "markdown",
   "id": "1fc3799f",
   "metadata": {},
   "source": [
    "**SERIOUSLY: Take a few minutes to do this. It will make you learn more from the below code!**"
   ]
  },
  {
   "cell_type": "markdown",
   "id": "66a4de70",
   "metadata": {},
   "source": [
    "Ok. And now let's get the python to do it for us."
   ]
  },
  {
   "cell_type": "code",
   "execution_count": null,
   "id": "2412caf9",
   "metadata": {
    "ExecuteTime": {
     "end_time": "2024-01-15T15:49:38.272158Z",
     "start_time": "2024-01-15T15:49:31.078587Z"
    }
   },
   "outputs": [],
   "source": [
    "browser = get_a_browser()\n",
    "\n",
    "# the url we want to open\n",
    "url = u'https://www.bbc.co.uk/weather'\n",
    "\n",
    "# the browser will start and load the webpage\n",
    "browser.get(url)\n",
    "\n",
    "# we wait 1 second to let the page load everything\n",
    "time.sleep(1)\n",
    "\n",
    "# we search for an element that is called 'Edinburgh', which is a button\n",
    "# the button can be clicked with the .click() function\n",
    "browser.find_element(By.LINK_TEXT,\"Edinburgh\").click();\n",
    "\n",
    "# sleep again, let everything load\n",
    "time.sleep(1)\n",
    "\n",
    "# we load the HTML body (the main page content without headers, footers, etc.)\n",
    "body = browser.find_element(By.TAG_NAME,'body')\n",
    "\n",
    "# we use seleniums' send_keys() function to physically scroll down where we want to click\n",
    "body.send_keys(Keys.PAGE_DOWN)\n",
    "\n",
    "# search for the next button to access the next day's weather\n",
    "try:\n",
    "    # link will look like \"Sun 12Dec\" so we use find_element_by_partial_link_text()\n",
    "    next_button = browser.find_element(By.PARTIAL_LINK_TEXT,'Sun ') \n",
    "    next_button.click()\n",
    "except NoSuchElementException:  #if such element does not exist, just stop looping\n",
    "    print(\"something went wrong. There was no Sunday link.\")\n",
    "    \n",
    "# load current view of the page into a soup\n",
    "soup = BeautifulSoup(browser.page_source, 'html.parser')"
   ]
  },
  {
   "cell_type": "code",
   "execution_count": null,
   "id": "bb8bf348",
   "metadata": {
    "ExecuteTime": {
     "end_time": "2024-01-15T15:49:43.193466Z",
     "start_time": "2024-01-15T15:49:43.140592Z"
    }
   },
   "outputs": [],
   "source": [
    "\"\"\"\n",
    "1. Find all the elements of class pros and print them \n",
    "2. These values include today's sunrise and sunset time, and the following 13 days.\n",
    "3. `browser.page_source` always get the whole page, so we can only find all\n",
    "4. A not smart, but workable solution is to count how many days between today and next sunday \n",
    "   and then choose the right element of all sunrise_tag list.\n",
    "\"\"\"\n",
    "# The whole list\n",
    "sunrise_tag = soup.find_all(\"span\", {\"class\" : 'wr-c-astro-data__time'})\n",
    "# How many days between today and the next sunday\n",
    "# PLEASE KEEP THE PAGE OPEN, otherwise the next button will not be found\n",
    "diff = int(next_button.get_attribute('id')[-1])\n",
    "\n",
    "print(\"Sunrise next Sunday: \", sunrise_tag[2*diff].text)"
   ]
  },
  {
   "cell_type": "code",
   "execution_count": null,
   "id": "add33c07",
   "metadata": {
    "ExecuteTime": {
     "end_time": "2024-01-15T15:46:04.985598Z",
     "start_time": "2024-01-15T15:46:04.980818Z"
    },
    "scrolled": false
   },
   "outputs": [],
   "source": [
    "for i in range(16):\n",
    "    print(i, sunrise_tag[i].text)"
   ]
  },
  {
   "cell_type": "markdown",
   "id": "c267ce94",
   "metadata": {},
   "source": [
    "**If you have interests, you can try to find a better way to do this!**"
   ]
  },
  {
   "cell_type": "code",
   "execution_count": null,
   "id": "1bf53530",
   "metadata": {},
   "outputs": [],
   "source": []
  }
 ],
 "metadata": {
  "kernelspec": {
   "display_name": "Python 3 (ipykernel)",
   "language": "python",
   "name": "python3"
  },
  "language_info": {
   "codemirror_mode": {
    "name": "ipython",
    "version": 3
   },
   "file_extension": ".py",
   "mimetype": "text/x-python",
   "name": "python",
   "nbconvert_exporter": "python",
   "pygments_lexer": "ipython3",
   "version": "3.9.13"
  },
  "toc": {
   "base_numbering": 1,
   "nav_menu": {},
   "number_sections": true,
   "sideBar": true,
   "skip_h1_title": false,
   "title_cell": "Table of Contents",
   "title_sidebar": "Contents",
   "toc_cell": false,
   "toc_position": {},
   "toc_section_display": true,
   "toc_window_display": false
  }
 },
 "nbformat": 4,
 "nbformat_minor": 5
}
