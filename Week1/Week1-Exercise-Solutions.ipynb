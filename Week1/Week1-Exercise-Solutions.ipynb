{
 "cells": [
  {
   "cell_type": "markdown",
   "id": "d529b4ac",
   "metadata": {},
   "source": [
    "**IMPORTANT NOTE**: Exercie 2 will only work on your own machine (not via noteable, I think). Also: You'll need to unzip the chrome driver in the folder where your notebook is."
   ]
  },
  {
   "cell_type": "markdown",
   "id": "b889b428",
   "metadata": {},
   "source": [
    "# Exercise 1"
   ]
  },
  {
   "cell_type": "markdown",
   "id": "24e6bea1",
   "metadata": {},
   "source": [
    "Just using beautiful soup go to the description of this course and extract the number of SCQF level for it. http://www.drps.ed.ac.uk/22-23/dpt/cxcmse11427.htm"
   ]
  },
  {
   "cell_type": "markdown",
   "id": "90da2879",
   "metadata": {},
   "source": [
    "Spoiler alert: the content should be 'SCQF Level ...'."
   ]
  },
  {
   "cell_type": "markdown",
   "id": "08ff05fc",
   "metadata": {},
   "source": [
    "*hint*: you can use in to check for occurance of a word in a sentence"
   ]
  },
  {
   "cell_type": "code",
   "execution_count": 59,
   "id": "30392d95",
   "metadata": {
    "ExecuteTime": {
     "end_time": "2024-01-15T21:54:51.536037Z",
     "start_time": "2024-01-15T21:54:51.531052Z"
    }
   },
   "outputs": [
    {
     "name": "stdout",
     "output_type": "stream",
     "text": [
      "this sentence has a word banana in it\n"
     ]
    }
   ],
   "source": [
    "if 'banana' in 'a sentence with bananas':\n",
    "    print('this sentence has a word banana in it')\n",
    "\n",
    "# if word in sentence:\n",
    "#     print('this sentence has a word in it')"
   ]
  },
  {
   "cell_type": "code",
   "execution_count": 60,
   "id": "123f924c",
   "metadata": {
    "ExecuteTime": {
     "end_time": "2024-01-15T21:54:55.807581Z",
     "start_time": "2024-01-15T21:54:55.803799Z"
    },
    "scrolled": false
   },
   "outputs": [],
   "source": [
    "# !pip install bs4 \n",
    "from urllib.request import urlopen\n",
    "import os\n",
    "from bs4 import BeautifulSoup"
   ]
  },
  {
   "cell_type": "code",
   "execution_count": 61,
   "id": "d31b9512",
   "metadata": {
    "ExecuteTime": {
     "end_time": "2024-01-15T21:54:57.389986Z",
     "start_time": "2024-01-15T21:54:57.339151Z"
    }
   },
   "outputs": [
    {
     "name": "stdout",
     "output_type": "stream",
     "text": [
      "SCQF Level 11 (Postgraduate)\n"
     ]
    }
   ],
   "source": [
    "# website address\n",
    "page = 'http://www.drps.ed.ac.uk/22-23/dpt/cxcmse11427.htm'\n",
    "\n",
    "# open the url and store the website\n",
    "website = urlopen(page)\n",
    "\n",
    "# convert the website's content, for this a parser is needed. In this case a html parser\n",
    "soup = BeautifulSoup(website, 'html.parser')\n",
    "\n",
    "# Retrieve the cell that contains 'SCQF Level'\n",
    "# Retrieve the cell that contains 'SCQF Credits'\n",
    "table = soup.find('table', {'class':'sitstablegrid'})\n",
    "for cell in table.findChildren('td'):\n",
    "    if 'SCQF Level' in cell.text:\n",
    "        print(cell.text)\n",
    "        break"
   ]
  },
  {
   "cell_type": "code",
   "execution_count": null,
   "id": "56066ee7",
   "metadata": {},
   "outputs": [],
   "source": []
  },
  {
   "cell_type": "markdown",
   "id": "43b1ad17",
   "metadata": {},
   "source": [
    "# Exercise 2"
   ]
  },
  {
   "cell_type": "markdown",
   "id": "2d2ba140",
   "metadata": {},
   "source": [
    "Again, we hope to find all reviews of Edinburgh castle, but now we don't have API key. \n",
    "\n",
    "**It is NOT suggested for any commerical use**, but for educational purposes, you can have a try!"
   ]
  },
  {
   "cell_type": "markdown",
   "id": "dad0ae20",
   "metadata": {},
   "source": [
    "We look at the Google map, Edinburgh castle: https://www.google.com/maps/place/Edinburgh+Castle/@55.9485977,-3.2021022,17z/data=!4m5!3m4!1s0x4887c79a2099c0f7:0x469a1eebe54c0a58!8m2!3d55.9485947!4d-3.1999135"
   ]
  },
  {
   "cell_type": "markdown",
   "id": "26a2e78c",
   "metadata": {},
   "source": [
    "And we try to find all reviews of Edinburgh castle, OR we can try to get all reviews."
   ]
  },
  {
   "cell_type": "code",
   "execution_count": 30,
   "id": "ae783ded",
   "metadata": {
    "ExecuteTime": {
     "end_time": "2024-01-15T18:40:31.742093Z",
     "start_time": "2024-01-15T18:40:31.737098Z"
    }
   },
   "outputs": [],
   "source": [
    "# !pip install selenium \n",
    "import time\n",
    "import pandas as pd\n",
    "\n",
    "from bs4 import BeautifulSoup\n",
    "from selenium import webdriver\n",
    "from selenium.webdriver.common.by import By\n",
    "from selenium.webdriver.common.keys import Keys"
   ]
  },
  {
   "cell_type": "code",
   "execution_count": 5,
   "id": "edf61fdb",
   "metadata": {
    "ExecuteTime": {
     "end_time": "2024-01-15T17:44:14.137393Z",
     "start_time": "2024-01-15T17:44:14.132635Z"
    }
   },
   "outputs": [],
   "source": [
    "# define method that will create a browser, suitable to your operating system\n",
    "import sys\n",
    "def get_a_browser():\n",
    "    if sys.platform.startswith('win32') or sys.platform.startswith('cygwin'):\n",
    "        return webdriver.Chrome() # windows\n",
    "    else:\n",
    "        return webdriver.Chrome('./chromedriver') # mac"
   ]
  },
  {
   "cell_type": "code",
   "execution_count": 8,
   "id": "ab0c651f",
   "metadata": {
    "ExecuteTime": {
     "end_time": "2024-01-15T17:50:00.634402Z",
     "start_time": "2024-01-15T17:50:00.630180Z"
    }
   },
   "outputs": [],
   "source": [
    "# This is Edinburgh castle\n",
    "url = 'https://www.google.com/maps/place/Edinburgh+Castle/@55.9485947,-3.2021022,17z/data=!3m1!4b1!4m5!3m4!1s0x4887c79a2099c0f7:0x469a1eebe54c0a58!8m2!3d55.9485947!4d-3.1999135'"
   ]
  },
  {
   "cell_type": "code",
   "execution_count": 51,
   "id": "a1b2d7b4",
   "metadata": {
    "ExecuteTime": {
     "end_time": "2024-01-15T19:03:31.456682Z",
     "start_time": "2024-01-15T19:03:19.799792Z"
    }
   },
   "outputs": [
    {
     "name": "stdout",
     "output_type": "stream",
     "text": [
      "<selenium.webdriver.remote.webelement.WebElement (session=\"7caf545718cdbd47d31031a268687328\", element=\"73A61B43A4B47CCB4754FB9D4515B3F1_element_20\")>\n",
      "There are 89863 reviews\n",
      "Pleasae KEEP BROWSER OPEN!\n"
     ]
    }
   ],
   "source": [
    "browser = get_a_browser()\n",
    "\n",
    "# the url we want to open\n",
    "# fill in the correct url for google map, Edinburgh castle!\n",
    "# You can also try other places!\n",
    "\n",
    "# the browser will start and load the webpage\n",
    "browser.get(url)\n",
    "\n",
    "# we wait 1 second to let the page load everything\n",
    "time.sleep(1)\n",
    "\n",
    "# Google map has cookies warning, just accept the cookies\n",
    "# In the previous, we use a div, span, h1 to find the elements, however, if you need to find a specific element, \n",
    "# then xpath is a better option\n",
    "xpath_for_accept_cookies = '//*[@id=\"yDmH0d\"]/c-wiz/div/div/div/div[2]/div[1]/div[3]/div[1]/div[1]/form[2]/div/div/button'\n",
    "accept_cookies = browser.find_element(By.XPATH, xpath_for_accept_cookies)\n",
    "print(accept_cookies)\n",
    "accept_cookies.click();\n",
    "time.sleep(3)\n",
    "\n",
    "# Get total number of reviews\n",
    "xpath_for_total_number_of_reviews = '//*[@id=\"QA0Szd\"]/div/div/div[1]/div[2]/div/div[1]/div/div/div[2]/div/div[1]/div[2]/div/div[1]/div[2]/span[2]/span/span'\n",
    "total_number_of_reviews = browser.find_element(By.XPATH, xpath_for_total_number_of_reviews)\n",
    "# The number we get is '(89,862) reviews', but we hope to get 89862!\n",
    "total_number_of_reviews = int(total_number_of_reviews.text.split(\" \")[0].replace('(', '').replace(')', '').replace(',', ''))\n",
    "print('There are', total_number_of_reviews, 'reviews')\n",
    "\n",
    "# go to all reviews page\n",
    "xpath_for_all_reviews ='//*[@id=\"QA0Szd\"]/div/div/div[1]/div[2]/div/div[1]/div/div/div[3]/div/div/button[2]'\n",
    "browser.find_element(By.XPATH, xpath_for_all_reviews).click()\n",
    "# some other xpath may work, you can have a try!\n",
    "time.sleep(3)\n",
    "\n",
    "print('Pleasae KEEP BROWSER OPEN!')"
   ]
  },
  {
   "cell_type": "code",
   "execution_count": null,
   "id": "d3dbf398",
   "metadata": {},
   "outputs": [],
   "source": [
    "# Scroll down to access all reviews, first of all, let's find the element!"
   ]
  },
  {
   "cell_type": "code",
   "execution_count": 58,
   "id": "443ef043",
   "metadata": {
    "ExecuteTime": {
     "end_time": "2024-01-15T19:07:01.940721Z",
     "start_time": "2024-01-15T19:06:50.999937Z"
    },
    "scrolled": true
   },
   "outputs": [],
   "source": [
    "\"\"\"\n",
    "There are many ways to scroll down\n",
    "\"\"\"\n",
    "### 1. Use xpath\n",
    "xpath_for_scrollable_div = '//*[@id=\"QA0Szd\"]/div/div/div[1]/div[2]/div/div[1]/div/div/div[2]'\n",
    "scrollable_div = browser.find_element(By.XPATH, xpath_for_scrollable_div)\n",
    "\n",
    "### 2. use css selector\n",
    "# css_for_scrollable_div = '#QA0Szd > div > div > div.w6VYqd > div:nth-child(2) > div > div.e07Vkf.kA9KIf'\n",
    "# scrollable_div = browser.find_element(By.CSS_SELECTOR, css_for_scrollable_div)\n",
    "\n",
    "#Scroll as many times as necessary to load all reviews\n",
    "\"\"\"\n",
    "Google map reviews display 10 per scoll down, so in total, we need to run round(total_number_of_reviews/10 - 1) times;\n",
    "However Google has a limit maximum of requests 120.\n",
    "\"\"\"\n",
    "# for i in range(0,(round(total_number_of_reviews/10 - 1))):\n",
    "for i in range(0,10):\n",
    "    browser.execute_script('arguments[0].scrollTop = arguments[0].scrollHeight', \n",
    "            scrollable_div)\n",
    "    time.sleep(1)\n",
    "    \n",
    "### 3. PAGE DOWN method\n",
    "# Find the body of the page\n",
    "# body = browser.find_element(By.TAG_NAME,'body')\n",
    "# # Keep scrolling down using a simulation of the PAGE_DOWN button\n",
    "# for _ in range(10):\n",
    "#     body.send_keys(Keys.PAGE_DOWN)\n",
    "#     time.sleep(1)\n",
    "\n",
    "#-----------------------------------------------------------------\n",
    "#extract the info\n",
    "response = BeautifulSoup(browser.page_source, 'html.parser')\n",
    "reviews = response.find_all('span', class_='wiI7pd', string=True)\n",
    "dates = response.find_all('span', class_='rsqaWe', string=True)\n",
    "rates = response.find_all('span', class_=\"kvMYJc\")\n",
    "users = response.find_all('div', class_='jftiEf fontBodyMedium')\n",
    "\n",
    "reviews_text=[]\n",
    "dates_text = []\n",
    "users_text = []\n",
    "rates_int = []\n",
    "\n",
    "for i in range(len(reviews)):\n",
    "    reviews_text.append(reviews[i].text)\n",
    "    dates_text.append(dates[i].text)\n",
    "    rates_int.append(int(rates[i]['aria-label'][0]))\n",
    "    users_text.append(users[i]['aria-label'])"
   ]
  },
  {
   "cell_type": "code",
   "execution_count": 56,
   "id": "d3ed8065",
   "metadata": {
    "ExecuteTime": {
     "end_time": "2024-01-15T19:05:09.678643Z",
     "start_time": "2024-01-15T19:05:09.673205Z"
    }
   },
   "outputs": [],
   "source": [
    "#Build up a pandas dataframe to store the dataset\n",
    "df = pd.DataFrame({\"users\":users_text, \n",
    "                   \"rates\":rates_int, \n",
    "                   \"review\":reviews_text, \n",
    "                   \"dates\":dates_text})"
   ]
  },
  {
   "cell_type": "code",
   "execution_count": 57,
   "id": "5b366d30",
   "metadata": {
    "ExecuteTime": {
     "end_time": "2024-01-15T19:05:10.897402Z",
     "start_time": "2024-01-15T19:05:10.887038Z"
    }
   },
   "outputs": [
    {
     "data": {
      "text/html": [
       "<div>\n",
       "<style scoped>\n",
       "    .dataframe tbody tr th:only-of-type {\n",
       "        vertical-align: middle;\n",
       "    }\n",
       "\n",
       "    .dataframe tbody tr th {\n",
       "        vertical-align: top;\n",
       "    }\n",
       "\n",
       "    .dataframe thead th {\n",
       "        text-align: right;\n",
       "    }\n",
       "</style>\n",
       "<table border=\"1\" class=\"dataframe\">\n",
       "  <thead>\n",
       "    <tr style=\"text-align: right;\">\n",
       "      <th></th>\n",
       "      <th>users</th>\n",
       "      <th>rates</th>\n",
       "      <th>review</th>\n",
       "      <th>dates</th>\n",
       "    </tr>\n",
       "  </thead>\n",
       "  <tbody>\n",
       "    <tr>\n",
       "      <th>0</th>\n",
       "      <td>Malissa Scalco</td>\n",
       "      <td>5</td>\n",
       "      <td>Fantastic views and steeped in medieval histor...</td>\n",
       "      <td>a week ago</td>\n",
       "    </tr>\n",
       "    <tr>\n",
       "      <th>1</th>\n",
       "      <td>Claire Gudewich</td>\n",
       "      <td>5</td>\n",
       "      <td>Definitely book a guided tour with a person. O...</td>\n",
       "      <td>a week ago</td>\n",
       "    </tr>\n",
       "    <tr>\n",
       "      <th>2</th>\n",
       "      <td>Amber Heck</td>\n",
       "      <td>5</td>\n",
       "      <td>I recommend visiting the castle to any tourist...</td>\n",
       "      <td>a week ago</td>\n",
       "    </tr>\n",
       "    <tr>\n",
       "      <th>3</th>\n",
       "      <td>Rodrigo Sarai</td>\n",
       "      <td>5</td>\n",
       "      <td>Nice place to go with the whole family. The ti...</td>\n",
       "      <td>a week ago</td>\n",
       "    </tr>\n",
       "    <tr>\n",
       "      <th>4</th>\n",
       "      <td>Fred Leon</td>\n",
       "      <td>5</td>\n",
       "      <td>An awesome place to visit. The Access for disa...</td>\n",
       "      <td>2 weeks ago</td>\n",
       "    </tr>\n",
       "    <tr>\n",
       "      <th>5</th>\n",
       "      <td>Hock Sing Tan</td>\n",
       "      <td>5</td>\n",
       "      <td>We spent 3 hours in this Edinburgh iconic buil...</td>\n",
       "      <td>a week ago</td>\n",
       "    </tr>\n",
       "    <tr>\n",
       "      <th>6</th>\n",
       "      <td>Darren Mattice</td>\n",
       "      <td>4</td>\n",
       "      <td>The age of the castle is amazing and beautiful...</td>\n",
       "      <td>2 weeks ago</td>\n",
       "    </tr>\n",
       "    <tr>\n",
       "      <th>7</th>\n",
       "      <td>Tray Carlisle</td>\n",
       "      <td>5</td>\n",
       "      <td>It was definitely impressive to see firsthand....</td>\n",
       "      <td>a week ago</td>\n",
       "    </tr>\n",
       "    <tr>\n",
       "      <th>8</th>\n",
       "      <td>Fiorenza Fiora</td>\n",
       "      <td>5</td>\n",
       "      <td>Edinburgh Castle is a must-visit if you find y...</td>\n",
       "      <td>a week ago</td>\n",
       "    </tr>\n",
       "    <tr>\n",
       "      <th>9</th>\n",
       "      <td>Sukhmani Singh</td>\n",
       "      <td>5</td>\n",
       "      <td>Great place to dig deep into the Scottish hist...</td>\n",
       "      <td>a month ago</td>\n",
       "    </tr>\n",
       "  </tbody>\n",
       "</table>\n",
       "</div>"
      ],
      "text/plain": [
       "             users  rates                                             review  \\\n",
       "0   Malissa Scalco      5  Fantastic views and steeped in medieval histor...   \n",
       "1  Claire Gudewich      5  Definitely book a guided tour with a person. O...   \n",
       "2       Amber Heck      5  I recommend visiting the castle to any tourist...   \n",
       "3    Rodrigo Sarai      5  Nice place to go with the whole family. The ti...   \n",
       "4        Fred Leon      5  An awesome place to visit. The Access for disa...   \n",
       "5    Hock Sing Tan      5  We spent 3 hours in this Edinburgh iconic buil...   \n",
       "6   Darren Mattice      4  The age of the castle is amazing and beautiful...   \n",
       "7    Tray Carlisle      5  It was definitely impressive to see firsthand....   \n",
       "8   Fiorenza Fiora      5  Edinburgh Castle is a must-visit if you find y...   \n",
       "9   Sukhmani Singh      5  Great place to dig deep into the Scottish hist...   \n",
       "\n",
       "         dates  \n",
       "0   a week ago  \n",
       "1   a week ago  \n",
       "2   a week ago  \n",
       "3   a week ago  \n",
       "4  2 weeks ago  \n",
       "5   a week ago  \n",
       "6  2 weeks ago  \n",
       "7   a week ago  \n",
       "8   a week ago  \n",
       "9  a month ago  "
      ]
     },
     "execution_count": 57,
     "metadata": {},
     "output_type": "execute_result"
    }
   ],
   "source": [
    "df"
   ]
  },
  {
   "cell_type": "code",
   "execution_count": null,
   "id": "7f10e981",
   "metadata": {},
   "outputs": [],
   "source": []
  },
  {
   "cell_type": "markdown",
   "id": "c08bc442",
   "metadata": {},
   "source": [
    "#  Exercise 3: Get Property info from ESPC"
   ]
  },
  {
   "cell_type": "markdown",
   "id": "b4924313",
   "metadata": {},
   "source": [
    "About ESPC:\n",
    "\n",
    "ESPC is the home of property, and the first-choice property portal for home buyers and sellers in Edinburgh, the Lothians, Fife and the Borders."
   ]
  },
  {
   "cell_type": "markdown",
   "id": "6a1b8e73",
   "metadata": {},
   "source": [
    "* Find recent property listings\n",
    "* Write the necessary info to a csv file"
   ]
  },
  {
   "cell_type": "code",
   "execution_count": 62,
   "id": "4cc04ba0",
   "metadata": {
    "ExecuteTime": {
     "end_time": "2024-01-15T22:02:49.643590Z",
     "start_time": "2024-01-15T22:02:49.640669Z"
    }
   },
   "outputs": [],
   "source": [
    "# Step 1: Import necessary libraries"
   ]
  },
  {
   "cell_type": "code",
   "execution_count": 65,
   "id": "519a5c56",
   "metadata": {
    "ExecuteTime": {
     "end_time": "2024-01-15T22:07:19.921364Z",
     "start_time": "2024-01-15T22:07:19.865405Z"
    }
   },
   "outputs": [],
   "source": [
    "import time\n",
    "import requests\n",
    "from bs4 import BeautifulSoup\n",
    "import re\n",
    "import pandas as pd"
   ]
  },
  {
   "cell_type": "markdown",
   "id": "c2d7defb",
   "metadata": {},
   "source": [
    "## Here are the code to scrape the property information, please fill the blank"
   ]
  },
  {
   "cell_type": "code",
   "execution_count": 66,
   "id": "2d4947f5",
   "metadata": {
    "ExecuteTime": {
     "end_time": "2024-01-15T22:07:21.055383Z",
     "start_time": "2024-01-15T22:07:21.034854Z"
    }
   },
   "outputs": [],
   "source": [
    "# Define the EspcScraper class\n",
    "class EspcScraper:\n",
    "    # Initializer or constructor method\n",
    "    def __init__(self):\n",
    "        # Initialize a list to store the results\n",
    "        self.results = []\n",
    "    \n",
    "    # Method to fetch the HTML content of a given URL\n",
    "    def fetch(self, url):\n",
    "        print('HTTP GET request to URL: %s' % url, end='')\n",
    "        res = requests.get(url)  # Perform the HTTP GET request\n",
    "        print(' | Status code: %s' % res.status_code)\n",
    "        return res\n",
    "\n",
    "    # Method to parse the HTML content and extract relevant data\n",
    "    def parse(self, html):\n",
    "        # Parse the HTML content using BeautifulSoup\n",
    "        content = BeautifulSoup(html, 'lxml')\n",
    "        # Find all div elements with the 'infoWrap' class\n",
    "        # This is because the web page is structured in such a way that, card by card\n",
    "        cards = content.findAll('div', {'class': 'infoWrap'})\n",
    "        \n",
    "        # Define delimiters for splitting the title\n",
    "        delimiters = \":|,\"\n",
    "        \n",
    "        # Iterate over each card and extract data\n",
    "        for card in cards:\n",
    "            # # Extract the hyperlink\n",
    "            link = 'https://espc.com' + card.find('a')['href']\n",
    "            \n",
    "            # title includes property type, address, town and postcode\n",
    "            title = card.find('h3', {'class': 'propertyTitle'}).text\n",
    "            title_part = re.split(delimiters, title)\n",
    "            postcode = title_part[-1].strip()\n",
    "            if postcode.count(' ') > 1:\n",
    "                town = postcode.split()[0]\n",
    "                postcode = ' '.join(postcode.split()[-2:])\n",
    "            else:\n",
    "                town = title_part[2].strip()\n",
    "\n",
    "            # description\n",
    "            description = card.find('div', {'class': 'description'})\n",
    "            \n",
    "            # price & offer\n",
    "            offer_type = card.find('span', {'class': 'offersOver'}).text\n",
    "            price = card.find('span', {'class': 'price'}).text\n",
    "            \n",
    "            # facilities\n",
    "            facilities = card.find('div', {'class': 'facilities'}).text\n",
    "            # Ensure the list is at least 3 elements long by extending with 'U'\n",
    "            facilities = (facilities + 'U' * 3)[:3]\n",
    "\n",
    "            try:\n",
    "                agent = card.find('div', {'class': 'logoWrap'}).find('img')['alt']\n",
    "            except:\n",
    "                agent = 'N/A'\n",
    "            \n",
    "            # Append the extracted information to the results list\n",
    "            self.results.append({\n",
    "                'offer_type': offer_type[:-len(price) - 1],\n",
    "                'price': price.strip(),\n",
    "                'property_type': title_part[0].strip(),\n",
    "                'address': title_part[1].strip(),\n",
    "                'town': town,\n",
    "                'postcode': postcode,\n",
    "                'area': postcode.split()[0],\n",
    "                'beds': facilities[0],\n",
    "                'toilets': facilities[1],\n",
    "                'living_rooms': facilities[2],\n",
    "                'description': description.text.split('\\n', 1)[0],\n",
    "                'link': link,\n",
    "                'parking': 'parking' in description,\n",
    "                'allocated': 'allocated' in description,\n",
    "                'agent': agent\n",
    "            })\n",
    "\n",
    "    def run(self,url, result_saving=False):\n",
    "        res = self.fetch(url)\n",
    "        self.parse(res.text)\n",
    "        \n",
    "        # get number of pages\n",
    "        li_tags = BeautifulSoup(res.text, 'lxml').select('ul.paginationList > li')\n",
    "        n_pages = int(li_tags[-2].text)\n",
    "        \n",
    "        # get all pages\n",
    "        insert_position = url.find('?') + 1  # +1 to insert after the '?'\n",
    "        for page in range(2, n_pages + 1):\n",
    "            string_to_insert = 'p=' + str(page) + '&'\n",
    "            new_url = url[:insert_position] + string_to_insert + url[insert_position:]\n",
    "            new_res = self.fetch(new_url)\n",
    "            self.parse(new_res.text)\n",
    "            time.sleep(2)\n",
    "            \n",
    "        df = pd.DataFrame(self.results)\n",
    "        # Just clean the empty rows\n",
    "        df.drop_duplicates(subset=['agent',\n",
    "                                   'address',\n",
    "                                   'price'],\n",
    "                           inplace=True)\n",
    "        \n",
    "        # If result_saving is True, then save results\n",
    "        if result_saving:\n",
    "            print('Saving ', len(df), ' items to csv file (espc.csv)...')\n",
    "            df.to_csv('espc.csv', index=False,\n",
    "                      encoding='utf-8-sig')\n",
    "        \n",
    "        return df"
   ]
  },
  {
   "cell_type": "code",
   "execution_count": 67,
   "id": "5ef658dd",
   "metadata": {
    "ExecuteTime": {
     "end_time": "2024-01-15T22:08:56.100923Z",
     "start_time": "2024-01-15T22:07:27.371075Z"
    }
   },
   "outputs": [
    {
     "name": "stdout",
     "output_type": "stream",
     "text": [
      "HTTP GET request to URL: https://espc.com/properties?locations=edinburgh&minbeds=2plus&maxprice=300000 | Status code: 200\n",
      "HTTP GET request to URL: https://espc.com/properties?p=2&locations=edinburgh&minbeds=2plus&maxprice=300000 | Status code: 200\n",
      "HTTP GET request to URL: https://espc.com/properties?p=3&locations=edinburgh&minbeds=2plus&maxprice=300000 | Status code: 200\n",
      "HTTP GET request to URL: https://espc.com/properties?p=4&locations=edinburgh&minbeds=2plus&maxprice=300000 | Status code: 200\n",
      "HTTP GET request to URL: https://espc.com/properties?p=5&locations=edinburgh&minbeds=2plus&maxprice=300000 | Status code: 200\n",
      "HTTP GET request to URL: https://espc.com/properties?p=6&locations=edinburgh&minbeds=2plus&maxprice=300000 | Status code: 200\n",
      "HTTP GET request to URL: https://espc.com/properties?p=7&locations=edinburgh&minbeds=2plus&maxprice=300000 | Status code: 200\n",
      "HTTP GET request to URL: https://espc.com/properties?p=8&locations=edinburgh&minbeds=2plus&maxprice=300000 | Status code: 200\n",
      "HTTP GET request to URL: https://espc.com/properties?p=9&locations=edinburgh&minbeds=2plus&maxprice=300000 | Status code: 200\n",
      "HTTP GET request to URL: https://espc.com/properties?p=10&locations=edinburgh&minbeds=2plus&maxprice=300000 | Status code: 200\n",
      "HTTP GET request to URL: https://espc.com/properties?p=11&locations=edinburgh&minbeds=2plus&maxprice=300000 | Status code: 200\n",
      "HTTP GET request to URL: https://espc.com/properties?p=12&locations=edinburgh&minbeds=2plus&maxprice=300000 | Status code: 200\n",
      "HTTP GET request to URL: https://espc.com/properties?p=13&locations=edinburgh&minbeds=2plus&maxprice=300000 | Status code: 200\n",
      "HTTP GET request to URL: https://espc.com/properties?p=14&locations=edinburgh&minbeds=2plus&maxprice=300000 | Status code: 200\n",
      "HTTP GET request to URL: https://espc.com/properties?p=15&locations=edinburgh&minbeds=2plus&maxprice=300000 | Status code: 200\n",
      "HTTP GET request to URL: https://espc.com/properties?p=16&locations=edinburgh&minbeds=2plus&maxprice=300000 | Status code: 200\n",
      "HTTP GET request to URL: https://espc.com/properties?p=17&locations=edinburgh&minbeds=2plus&maxprice=300000 | Status code: 200\n",
      "HTTP GET request to URL: https://espc.com/properties?p=18&locations=edinburgh&minbeds=2plus&maxprice=300000 | Status code: 200\n",
      "HTTP GET request to URL: https://espc.com/properties?p=19&locations=edinburgh&minbeds=2plus&maxprice=300000 | Status code: 200\n",
      "HTTP GET request to URL: https://espc.com/properties?p=20&locations=edinburgh&minbeds=2plus&maxprice=300000 | Status code: 200\n",
      "HTTP GET request to URL: https://espc.com/properties?p=21&locations=edinburgh&minbeds=2plus&maxprice=300000 | Status code: 200\n",
      "HTTP GET request to URL: https://espc.com/properties?p=22&locations=edinburgh&minbeds=2plus&maxprice=300000 | Status code: 200\n",
      "HTTP GET request to URL: https://espc.com/properties?p=23&locations=edinburgh&minbeds=2plus&maxprice=300000 | Status code: 200\n",
      "HTTP GET request to URL: https://espc.com/properties?p=24&locations=edinburgh&minbeds=2plus&maxprice=300000 | Status code: 200\n",
      "HTTP GET request to URL: https://espc.com/properties?p=25&locations=edinburgh&minbeds=2plus&maxprice=300000 | Status code: 200\n",
      "HTTP GET request to URL: https://espc.com/properties?p=26&locations=edinburgh&minbeds=2plus&maxprice=300000 | Status code: 200\n",
      "HTTP GET request to URL: https://espc.com/properties?p=27&locations=edinburgh&minbeds=2plus&maxprice=300000 | Status code: 200\n",
      "HTTP GET request to URL: https://espc.com/properties?p=28&locations=edinburgh&minbeds=2plus&maxprice=300000 | Status code: 200\n",
      "HTTP GET request to URL: https://espc.com/properties?p=29&locations=edinburgh&minbeds=2plus&maxprice=300000 | Status code: 200\n",
      "HTTP GET request to URL: https://espc.com/properties?p=30&locations=edinburgh&minbeds=2plus&maxprice=300000 | Status code: 200\n",
      "HTTP GET request to URL: https://espc.com/properties?p=31&locations=edinburgh&minbeds=2plus&maxprice=300000 | Status code: 200\n",
      "HTTP GET request to URL: https://espc.com/properties?p=32&locations=edinburgh&minbeds=2plus&maxprice=300000 | Status code: 200\n",
      "HTTP GET request to URL: https://espc.com/properties?p=33&locations=edinburgh&minbeds=2plus&maxprice=300000 | Status code: 200\n",
      "HTTP GET request to URL: https://espc.com/properties?p=34&locations=edinburgh&minbeds=2plus&maxprice=300000 | Status code: 200\n",
      "HTTP GET request to URL: https://espc.com/properties?p=35&locations=edinburgh&minbeds=2plus&maxprice=300000 | Status code: 200\n",
      "HTTP GET request to URL: https://espc.com/properties?p=36&locations=edinburgh&minbeds=2plus&maxprice=300000 | Status code: 200\n",
      "Saving  356  items to csv file (espc.csv)...\n"
     ]
    },
    {
     "data": {
      "text/html": [
       "<div>\n",
       "<style scoped>\n",
       "    .dataframe tbody tr th:only-of-type {\n",
       "        vertical-align: middle;\n",
       "    }\n",
       "\n",
       "    .dataframe tbody tr th {\n",
       "        vertical-align: top;\n",
       "    }\n",
       "\n",
       "    .dataframe thead th {\n",
       "        text-align: right;\n",
       "    }\n",
       "</style>\n",
       "<table border=\"1\" class=\"dataframe\">\n",
       "  <thead>\n",
       "    <tr style=\"text-align: right;\">\n",
       "      <th></th>\n",
       "      <th>offer_type</th>\n",
       "      <th>price</th>\n",
       "      <th>property_type</th>\n",
       "      <th>address</th>\n",
       "      <th>town</th>\n",
       "      <th>postcode</th>\n",
       "      <th>area</th>\n",
       "      <th>beds</th>\n",
       "      <th>toilets</th>\n",
       "      <th>living_rooms</th>\n",
       "      <th>description</th>\n",
       "      <th>link</th>\n",
       "      <th>parking</th>\n",
       "      <th>allocated</th>\n",
       "      <th>agent</th>\n",
       "    </tr>\n",
       "  </thead>\n",
       "  <tbody>\n",
       "    <tr>\n",
       "      <th>0</th>\n",
       "      <td>Fixed Price</td>\n",
       "      <td>£195,000</td>\n",
       "      <td>End Terraced House</td>\n",
       "      <td>15 Whitehill Street</td>\n",
       "      <td>Newcraighall</td>\n",
       "      <td>EH21 8RB</td>\n",
       "      <td>EH21</td>\n",
       "      <td>2</td>\n",
       "      <td>1</td>\n",
       "      <td>2</td>\n",
       "      <td>McEwan Fraser Legal is delighted to present th...</td>\n",
       "      <td>https://espc.com/property/15-whitehill-street-...</td>\n",
       "      <td>False</td>\n",
       "      <td>False</td>\n",
       "      <td>McEwan Fraser Legal - Edinburgh</td>\n",
       "    </tr>\n",
       "    <tr>\n",
       "      <th>1</th>\n",
       "      <td>Offers Over</td>\n",
       "      <td>£125,000</td>\n",
       "      <td>End Terraced House</td>\n",
       "      <td>38 Bogwood Road</td>\n",
       "      <td>Mayfield</td>\n",
       "      <td>EH22 5DZ</td>\n",
       "      <td>EH22</td>\n",
       "      <td>2</td>\n",
       "      <td>1</td>\n",
       "      <td>1</td>\n",
       "      <td>McEwan Fraser Legal is delighted to present th...</td>\n",
       "      <td>https://espc.com/property/38-bogwood-road-mayf...</td>\n",
       "      <td>False</td>\n",
       "      <td>False</td>\n",
       "      <td>McEwan Fraser Legal - Edinburgh</td>\n",
       "    </tr>\n",
       "    <tr>\n",
       "      <th>2</th>\n",
       "      <td>Offers Over</td>\n",
       "      <td>£280,000</td>\n",
       "      <td>Second Floor Flat</td>\n",
       "      <td>128 (flat 9)</td>\n",
       "      <td>McDonald Road</td>\n",
       "      <td>EH7 4QU</td>\n",
       "      <td>EH7</td>\n",
       "      <td>2</td>\n",
       "      <td>2</td>\n",
       "      <td>1</td>\n",
       "      <td>Well appointed two bedroom second floor apartm...</td>\n",
       "      <td>https://espc.com/property/128-flat-9-mcdonald-...</td>\n",
       "      <td>False</td>\n",
       "      <td>False</td>\n",
       "      <td>Connor Malcolm - PROPERTY DEPT</td>\n",
       "    </tr>\n",
       "    <tr>\n",
       "      <th>3</th>\n",
       "      <td>Offers Over</td>\n",
       "      <td>£235,000</td>\n",
       "      <td>Ground Floor Flat</td>\n",
       "      <td>163/3 Easter Road</td>\n",
       "      <td>Edinburgh</td>\n",
       "      <td>EH7 5QB</td>\n",
       "      <td>EH7</td>\n",
       "      <td>2</td>\n",
       "      <td>2</td>\n",
       "      <td>1</td>\n",
       "      <td>This attractive and generously proportioned gr...</td>\n",
       "      <td>https://espc.com/property/163-3-easter-road-ed...</td>\n",
       "      <td>False</td>\n",
       "      <td>False</td>\n",
       "      <td>Neilsons - Property Centre</td>\n",
       "    </tr>\n",
       "    <tr>\n",
       "      <th>4</th>\n",
       "      <td>Offers Over</td>\n",
       "      <td>£230,000</td>\n",
       "      <td>Triplex Apartment</td>\n",
       "      <td>2/1 Colonsay Way</td>\n",
       "      <td>Granton</td>\n",
       "      <td>EH5 1FB</td>\n",
       "      <td>EH5</td>\n",
       "      <td>2</td>\n",
       "      <td>2</td>\n",
       "      <td>1</td>\n",
       "      <td>Set in the heart of a modern development surro...</td>\n",
       "      <td>https://espc.com/property/2-1-colonsay-way-gra...</td>\n",
       "      <td>False</td>\n",
       "      <td>False</td>\n",
       "      <td>Warners Solicitors - Property Department</td>\n",
       "    </tr>\n",
       "    <tr>\n",
       "      <th>...</th>\n",
       "      <td>...</td>\n",
       "      <td>...</td>\n",
       "      <td>...</td>\n",
       "      <td>...</td>\n",
       "      <td>...</td>\n",
       "      <td>...</td>\n",
       "      <td>...</td>\n",
       "      <td>...</td>\n",
       "      <td>...</td>\n",
       "      <td>...</td>\n",
       "      <td>...</td>\n",
       "      <td>...</td>\n",
       "      <td>...</td>\n",
       "      <td>...</td>\n",
       "      <td>...</td>\n",
       "    </tr>\n",
       "    <tr>\n",
       "      <th>387</th>\n",
       "      <td>Fixed Price</td>\n",
       "      <td>£285,000</td>\n",
       "      <td>Terraced House</td>\n",
       "      <td>2 Lochiel Gardens</td>\n",
       "      <td></td>\n",
       "      <td>EH17 8WB</td>\n",
       "      <td>EH17</td>\n",
       "      <td>3</td>\n",
       "      <td>1</td>\n",
       "      <td>1</td>\n",
       "      <td>Part exchange available! McEwan Fraser is deli...</td>\n",
       "      <td>https://espc.com/property/2-lochiel-gardens-ed...</td>\n",
       "      <td>False</td>\n",
       "      <td>False</td>\n",
       "      <td>McEwan Fraser Legal - Edinburgh</td>\n",
       "    </tr>\n",
       "    <tr>\n",
       "      <th>388</th>\n",
       "      <td>Offers Over</td>\n",
       "      <td>£185,000</td>\n",
       "      <td>First Floor Flat</td>\n",
       "      <td>17/2 St. Triduanas Rest</td>\n",
       "      <td>EDINBURGH</td>\n",
       "      <td>EH7 6NF</td>\n",
       "      <td>EH7</td>\n",
       "      <td>2</td>\n",
       "      <td>1</td>\n",
       "      <td>1</td>\n",
       "      <td>This modern first floor flat is situated withi...</td>\n",
       "      <td>https://espc.com/property/17-2-st-triduanas-re...</td>\n",
       "      <td>False</td>\n",
       "      <td>False</td>\n",
       "      <td>Beveridge &amp; Kellas - LEITH WALK</td>\n",
       "    </tr>\n",
       "    <tr>\n",
       "      <th>389</th>\n",
       "      <td>Fixed Price</td>\n",
       "      <td>£275,000</td>\n",
       "      <td>Flat</td>\n",
       "      <td>47/2 Blackfriars Street</td>\n",
       "      <td></td>\n",
       "      <td>EH1 1NB</td>\n",
       "      <td>EH1</td>\n",
       "      <td>2</td>\n",
       "      <td>1</td>\n",
       "      <td>1</td>\n",
       "      <td>McEwan Fraser is delighted to present this mag...</td>\n",
       "      <td>https://espc.com/property/47-2-blackfriars-str...</td>\n",
       "      <td>False</td>\n",
       "      <td>False</td>\n",
       "      <td>N/A</td>\n",
       "    </tr>\n",
       "    <tr>\n",
       "      <th>390</th>\n",
       "      <td>Fixed Price</td>\n",
       "      <td>£220,000</td>\n",
       "      <td>Second Floor Flat</td>\n",
       "      <td>1/6 Oswald Terrace</td>\n",
       "      <td>Corstorphine\\r\\nEDINBURGH</td>\n",
       "      <td>EH12 7TS</td>\n",
       "      <td>EH12</td>\n",
       "      <td>2</td>\n",
       "      <td>1</td>\n",
       "      <td>1</td>\n",
       "      <td>Fantastic opportunity to acquire a charming se...</td>\n",
       "      <td>https://espc.com/property/1-6-oswald-terrace-c...</td>\n",
       "      <td>False</td>\n",
       "      <td>False</td>\n",
       "      <td>TC Young</td>\n",
       "    </tr>\n",
       "    <tr>\n",
       "      <th>391</th>\n",
       "      <td>Offers Over</td>\n",
       "      <td>£260,000</td>\n",
       "      <td>Cottage</td>\n",
       "      <td>9 Quarry Cottages</td>\n",
       "      <td>Newcraighall Road</td>\n",
       "      <td>EH15 3HJ</td>\n",
       "      <td>EH15</td>\n",
       "      <td>4</td>\n",
       "      <td>1</td>\n",
       "      <td>1</td>\n",
       "      <td>Well presented, four-bedroom, mid-terrace, con...</td>\n",
       "      <td>https://espc.com/property/9-quarry-cottages-ne...</td>\n",
       "      <td>False</td>\n",
       "      <td>False</td>\n",
       "      <td>mov8 Real Estate - Edinburgh</td>\n",
       "    </tr>\n",
       "  </tbody>\n",
       "</table>\n",
       "<p>356 rows × 15 columns</p>\n",
       "</div>"
      ],
      "text/plain": [
       "      offer_type     price       property_type                  address  \\\n",
       "0    Fixed Price  £195,000  End Terraced House      15 Whitehill Street   \n",
       "1    Offers Over  £125,000  End Terraced House          38 Bogwood Road   \n",
       "2    Offers Over  £280,000   Second Floor Flat             128 (flat 9)   \n",
       "3    Offers Over  £235,000   Ground Floor Flat        163/3 Easter Road   \n",
       "4    Offers Over  £230,000   Triplex Apartment         2/1 Colonsay Way   \n",
       "..           ...       ...                 ...                      ...   \n",
       "387  Fixed Price  £285,000      Terraced House        2 Lochiel Gardens   \n",
       "388  Offers Over  £185,000    First Floor Flat  17/2 St. Triduanas Rest   \n",
       "389  Fixed Price  £275,000                Flat  47/2 Blackfriars Street   \n",
       "390  Fixed Price  £220,000   Second Floor Flat       1/6 Oswald Terrace   \n",
       "391  Offers Over  £260,000             Cottage        9 Quarry Cottages   \n",
       "\n",
       "                          town  postcode  area beds toilets living_rooms  \\\n",
       "0                 Newcraighall  EH21 8RB  EH21    2       1            2   \n",
       "1                     Mayfield  EH22 5DZ  EH22    2       1            1   \n",
       "2                McDonald Road   EH7 4QU   EH7    2       2            1   \n",
       "3                    Edinburgh   EH7 5QB   EH7    2       2            1   \n",
       "4                      Granton   EH5 1FB   EH5    2       2            1   \n",
       "..                         ...       ...   ...  ...     ...          ...   \n",
       "387                             EH17 8WB  EH17    3       1            1   \n",
       "388                  EDINBURGH   EH7 6NF   EH7    2       1            1   \n",
       "389                              EH1 1NB   EH1    2       1            1   \n",
       "390  Corstorphine\\r\\nEDINBURGH  EH12 7TS  EH12    2       1            1   \n",
       "391          Newcraighall Road  EH15 3HJ  EH15    4       1            1   \n",
       "\n",
       "                                           description  \\\n",
       "0    McEwan Fraser Legal is delighted to present th...   \n",
       "1    McEwan Fraser Legal is delighted to present th...   \n",
       "2    Well appointed two bedroom second floor apartm...   \n",
       "3    This attractive and generously proportioned gr...   \n",
       "4    Set in the heart of a modern development surro...   \n",
       "..                                                 ...   \n",
       "387  Part exchange available! McEwan Fraser is deli...   \n",
       "388  This modern first floor flat is situated withi...   \n",
       "389  McEwan Fraser is delighted to present this mag...   \n",
       "390  Fantastic opportunity to acquire a charming se...   \n",
       "391  Well presented, four-bedroom, mid-terrace, con...   \n",
       "\n",
       "                                                  link  parking  allocated  \\\n",
       "0    https://espc.com/property/15-whitehill-street-...    False      False   \n",
       "1    https://espc.com/property/38-bogwood-road-mayf...    False      False   \n",
       "2    https://espc.com/property/128-flat-9-mcdonald-...    False      False   \n",
       "3    https://espc.com/property/163-3-easter-road-ed...    False      False   \n",
       "4    https://espc.com/property/2-1-colonsay-way-gra...    False      False   \n",
       "..                                                 ...      ...        ...   \n",
       "387  https://espc.com/property/2-lochiel-gardens-ed...    False      False   \n",
       "388  https://espc.com/property/17-2-st-triduanas-re...    False      False   \n",
       "389  https://espc.com/property/47-2-blackfriars-str...    False      False   \n",
       "390  https://espc.com/property/1-6-oswald-terrace-c...    False      False   \n",
       "391  https://espc.com/property/9-quarry-cottages-ne...    False      False   \n",
       "\n",
       "                                        agent  \n",
       "0             McEwan Fraser Legal - Edinburgh  \n",
       "1             McEwan Fraser Legal - Edinburgh  \n",
       "2              Connor Malcolm - PROPERTY DEPT  \n",
       "3                  Neilsons - Property Centre  \n",
       "4    Warners Solicitors - Property Department  \n",
       "..                                        ...  \n",
       "387           McEwan Fraser Legal - Edinburgh  \n",
       "388           Beveridge & Kellas - LEITH WALK  \n",
       "389                                       N/A  \n",
       "390                                  TC Young  \n",
       "391              mov8 Real Estate - Edinburgh  \n",
       "\n",
       "[356 rows x 15 columns]"
      ]
     },
     "execution_count": 67,
     "metadata": {},
     "output_type": "execute_result"
    }
   ],
   "source": [
    "# For example, \n",
    "url = 'https://espc.com/properties?locations=edinburgh&minbeds=2plus&maxprice=300000'\n",
    "scraper = EspcScraper()\n",
    "scraper.run(url, result_saving=True)"
   ]
  },
  {
   "cell_type": "markdown",
   "id": "a427a66c",
   "metadata": {},
   "source": [
    "You can also try to get all other properties you're interested in."
   ]
  },
  {
   "cell_type": "code",
   "execution_count": null,
   "id": "9323addd",
   "metadata": {},
   "outputs": [],
   "source": []
  },
  {
   "cell_type": "code",
   "execution_count": null,
   "id": "deee7295",
   "metadata": {},
   "outputs": [],
   "source": []
  },
  {
   "cell_type": "code",
   "execution_count": null,
   "id": "9acef257",
   "metadata": {},
   "outputs": [],
   "source": []
  }
 ],
 "metadata": {
  "kernelspec": {
   "display_name": "Python 3 (ipykernel)",
   "language": "python",
   "name": "python3"
  },
  "language_info": {
   "codemirror_mode": {
    "name": "ipython",
    "version": 3
   },
   "file_extension": ".py",
   "mimetype": "text/x-python",
   "name": "python",
   "nbconvert_exporter": "python",
   "pygments_lexer": "ipython3",
   "version": "3.11.3"
  },
  "toc": {
   "base_numbering": 1,
   "nav_menu": {},
   "number_sections": true,
   "sideBar": true,
   "skip_h1_title": false,
   "title_cell": "Table of Contents",
   "title_sidebar": "Contents",
   "toc_cell": false,
   "toc_position": {},
   "toc_section_display": true,
   "toc_window_display": false
  }
 },
 "nbformat": 4,
 "nbformat_minor": 5
}
