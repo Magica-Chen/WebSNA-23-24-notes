{
 "cells": [
  {
   "cell_type": "markdown",
   "id": "fe554929",
   "metadata": {},
   "source": [
    "**Usually the best way to scrap data from a website is to use the official API.**"
   ]
  },
  {
   "cell_type": "markdown",
   "id": "d4c425cb",
   "metadata": {},
   "source": [
    "# Get Review from Google Maps Reviews"
   ]
  },
  {
   "cell_type": "markdown",
   "id": "bbf67834",
   "metadata": {},
   "source": [
    "First of all, you need to get your own API key. You can get it from [here](https://developers.google.com/maps/documentation/places/web-service/get-api-key#key). Then everything will be simple."
   ]
  },
  {
   "cell_type": "code",
   "execution_count": null,
   "id": "986cc6da",
   "metadata": {
    "ExecuteTime": {
     "end_time": "2024-01-15T20:15:40.193286Z",
     "start_time": "2024-01-15T20:15:39.991617Z"
    }
   },
   "outputs": [],
   "source": [
    "import requests\n",
    "import json"
   ]
  },
  {
   "cell_type": "code",
   "execution_count": null,
   "id": "d8bb5aa3",
   "metadata": {
    "ExecuteTime": {
     "end_time": "2024-01-15T20:26:27.596161Z",
     "start_time": "2024-01-15T20:26:27.591656Z"
    }
   },
   "outputs": [],
   "source": [
    "# Replace 'YOUR_API_KEY' with your actual API key\n",
    "api_key = 'YOUR OWN API KEY'"
   ]
  },
  {
   "cell_type": "markdown",
   "id": "0d6cb124",
   "metadata": {},
   "source": [
    "#For example, if you would like to access the place, \"Edinburgh Castle\", then you should go to this URL and get the place ID:\n",
    "https://developers.google.com/maps/documentation/javascript/examples/places-placeid-finder"
   ]
  },
  {
   "cell_type": "code",
   "execution_count": null,
   "id": "6c80875a",
   "metadata": {
    "ExecuteTime": {
     "end_time": "2024-01-15T20:17:21.242798Z",
     "start_time": "2024-01-15T20:17:21.239403Z"
    }
   },
   "outputs": [],
   "source": [
    "# For example, Edinburgh Castle Place ID\n",
    "place_id = 'ChIJ98CZIJrHh0gRWApM5esemkY'"
   ]
  },
  {
   "cell_type": "code",
   "execution_count": null,
   "id": "e5326734",
   "metadata": {
    "ExecuteTime": {
     "end_time": "2024-01-15T20:17:33.647327Z",
     "start_time": "2024-01-15T20:17:33.446717Z"
    }
   },
   "outputs": [],
   "source": [
    "# Building the URL for the HTTP request\n",
    "url = f'https://maps.googleapis.com/maps/api/place/details/json?place_id={place_id}&fields=reviews&key={api_key}'\n",
    "\n",
    "# Making the GET request to the Google Places API\n",
    "response = requests.get(url)\n",
    "data = response.json()\n",
    "\n",
    "# Check if the response is OK\n",
    "if data['status'] == 'OK':\n",
    "    # Extracting the reviews\n",
    "    reviews = data['result']['reviews']\n",
    "    for review in reviews:\n",
    "        author_name = review.get('author_name')\n",
    "        rating = review.get('rating')\n",
    "        text = review.get('text')\n",
    "        time = review.get('relative_time_description')\n",
    "\n",
    "        print(f\"Author: {author_name}\")\n",
    "        print(f\"Rating: {rating}\")\n",
    "        print(f\"Review: {text}\")\n",
    "        print(f\"Time: {time}\\n\")\n",
    "else:\n",
    "    print(\"Error fetching details:\", data['status'])"
   ]
  },
  {
   "cell_type": "markdown",
   "id": "2c4581fa",
   "metadata": {},
   "source": [
    "# Much Easier Way to Get Review from Google Maps: API + Official Library"
   ]
  },
  {
   "cell_type": "code",
   "execution_count": null,
   "id": "ef10bef5",
   "metadata": {
    "ExecuteTime": {
     "end_time": "2024-01-15T20:19:17.538525Z",
     "start_time": "2024-01-15T20:19:17.534574Z"
    }
   },
   "outputs": [],
   "source": [
    "# if you haven't install googlemaps, you can install it by using the following command\n",
    "# !pip install googlemaps"
   ]
  },
  {
   "cell_type": "code",
   "execution_count": null,
   "id": "c939bc16",
   "metadata": {
    "ExecuteTime": {
     "end_time": "2024-01-15T20:19:40.089961Z",
     "start_time": "2024-01-15T20:19:39.343344Z"
    }
   },
   "outputs": [],
   "source": [
    "import googlemaps \n",
    "import pandas as pd"
   ]
  },
  {
   "cell_type": "code",
   "execution_count": null,
   "id": "39506aea",
   "metadata": {
    "ExecuteTime": {
     "end_time": "2024-01-15T20:22:54.667760Z",
     "start_time": "2024-01-15T20:22:54.662845Z"
    }
   },
   "outputs": [],
   "source": [
    "gmaps = googlemaps.Client(key=api_key)"
   ]
  },
  {
   "cell_type": "code",
   "execution_count": null,
   "id": "2bd60b45",
   "metadata": {
    "ExecuteTime": {
     "end_time": "2024-01-15T20:23:00.015359Z",
     "start_time": "2024-01-15T20:22:59.639731Z"
    }
   },
   "outputs": [],
   "source": [
    "place_name = 'Edinburgh Castle' \n",
    "place_details = gmaps.places(place_name)\n",
    "place_details"
   ]
  },
  {
   "cell_type": "code",
   "execution_count": null,
   "id": "18a6d277",
   "metadata": {
    "ExecuteTime": {
     "end_time": "2024-01-15T20:23:20.684378Z",
     "start_time": "2024-01-15T20:23:20.678409Z"
    }
   },
   "outputs": [],
   "source": [
    "# Place ID:\n",
    "place_details['results'][0]['place_id']"
   ]
  },
  {
   "cell_type": "code",
   "execution_count": null,
   "id": "2c2728a2",
   "metadata": {
    "ExecuteTime": {
     "end_time": "2024-01-15T20:23:28.249877Z",
     "start_time": "2024-01-15T20:23:28.111362Z"
    }
   },
   "outputs": [],
   "source": [
    "place = gmaps.place('ChIJmxoAhvdX4joR9aZdwt5FjgE') \n",
    "place['result']['reviews']"
   ]
  },
  {
   "cell_type": "code",
   "execution_count": null,
   "id": "c07a7b5b",
   "metadata": {},
   "outputs": [],
   "source": []
  },
  {
   "cell_type": "markdown",
   "id": "6a174060",
   "metadata": {},
   "source": [
    "**Did you find something interesting? ONLY 5 reviews!**"
   ]
  },
  {
   "cell_type": "markdown",
   "id": "35b8e7d5",
   "metadata": {},
   "source": [
    "If you would like to access more than 5 reviews, you have to purchase Premium data Access from Google.\n",
    "\n",
    "https://issuetracker.google.com/issues/35825957\n",
    "\n",
    "\n",
    "https://stackoverflow.com/questions/39223719/to-get-more-than-5-reviews-from-google-places-api#:~:text=In%20order%20to%20have%20access,Premium%20data%20Access%20from%20Google."
   ]
  },
  {
   "cell_type": "code",
   "execution_count": null,
   "id": "aa1c0350",
   "metadata": {},
   "outputs": [],
   "source": []
  }
 ],
 "metadata": {
  "kernelspec": {
   "display_name": "Python 3 (ipykernel)",
   "language": "python",
   "name": "python3"
  },
  "language_info": {
   "codemirror_mode": {
    "name": "ipython",
    "version": 3
   },
   "file_extension": ".py",
   "mimetype": "text/x-python",
   "name": "python",
   "nbconvert_exporter": "python",
   "pygments_lexer": "ipython3",
   "version": "3.11.3"
  },
  "toc": {
   "base_numbering": 1,
   "nav_menu": {},
   "number_sections": true,
   "sideBar": true,
   "skip_h1_title": false,
   "title_cell": "Table of Contents",
   "title_sidebar": "Contents",
   "toc_cell": false,
   "toc_position": {},
   "toc_section_display": true,
   "toc_window_display": false
  }
 },
 "nbformat": 4,
 "nbformat_minor": 5
}
