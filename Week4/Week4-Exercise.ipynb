{
 "cells": [
  {
   "cell_type": "markdown",
   "id": "26fedb97",
   "metadata": {},
   "source": [
    "In this notebook, we will get the solutions for both A-priori algorithm and collaborative filtering"
   ]
  },
  {
   "cell_type": "code",
   "execution_count": null,
   "id": "b9863b36",
   "metadata": {},
   "outputs": [],
   "source": [
    "import pandas as pd\n",
    "import numpy as np"
   ]
  },
  {
   "cell_type": "markdown",
   "id": "22fb6a40",
   "metadata": {},
   "source": [
    "# A-priori algorithm"
   ]
  },
  {
   "cell_type": "markdown",
   "id": "bffb7f86",
   "metadata": {},
   "source": [
    "The theoretical description can be found in Lecture note slide 26. Here is a brief introduction.\n",
    "The rationale is:\n",
    "- Candidate generation, find support of all itemsets of size X (start with X=1)\n",
    "- Retain all that meet minimum support level (minSup)\n",
    "- Repeat for size X+1 until no more itemsets meet crieria or X= |l|"
   ]
  },
  {
   "cell_type": "code",
   "execution_count": null,
   "id": "a53e2e36",
   "metadata": {},
   "outputs": [],
   "source": [
    "from itertools import combinations,chain"
   ]
  },
  {
   "cell_type": "markdown",
   "id": "d49d79b2",
   "metadata": {},
   "source": [
    "## Write a function to find all combination of itemsets of size level-1 to generate new level-size itemsets"
   ]
  },
  {
   "cell_type": "markdown",
   "id": "aea6000b",
   "metadata": {},
   "source": [
    "PLEASE REVIEW our lecture note, and write the code below!"
   ]
  },
  {
   "cell_type": "code",
   "execution_count": null,
   "id": "4dec67f9",
   "metadata": {},
   "outputs": [],
   "source": [
    "def mingle(items, level):\n",
    "    # mingle that creates all the possible sub-sets from a set (also given the depth, which is most likely 2)\n",
    "    # Note: to store sets in sets, use a frozenset to add to a set.\n",
    "    \n",
    "    outcome = set()\n",
    "    \"\"\"\n",
    "    Write your code here\n",
    "    \"\"\"        \n",
    "    return outcome"
   ]
  },
  {
   "cell_type": "code",
   "execution_count": null,
   "id": "2eff71ef",
   "metadata": {},
   "outputs": [],
   "source": [
    "# test the written function\n",
    "assert  mingle([\"a\",\"b\",\"c\"], 2) == {frozenset({'a', 'c'}), \n",
    "                                     frozenset({'b', 'c'}), \n",
    "                                     frozenset({'a', 'b'})}\n",
    "\n",
    "assert mingle([[\"a\",\"b\"],[\"a\",\"c\"],[\"a\",\"d\"]], 3) == {frozenset({'a', 'c', 'd'}), \n",
    "                                               frozenset({'a', 'b', 'd'}),\n",
    "                                               frozenset({'a', 'b', 'c'})}\n",
    "print(\"tests passed\")"
   ]
  },
  {
   "cell_type": "markdown",
   "id": "00bb820f",
   "metadata": {},
   "source": [
    "## Write a function that calculates the support of an itemset in a transactions database."
   ]
  },
  {
   "cell_type": "markdown",
   "id": "2f89c6b7",
   "metadata": {},
   "source": [
    "PLEASE REVIEW our lecture note, and write the code below!"
   ]
  },
  {
   "cell_type": "code",
   "execution_count": null,
   "id": "6e67a9f1",
   "metadata": {},
   "outputs": [],
   "source": [
    "def support(itemset,transactions,level):\n",
    "    \n",
    "    count = 0\n",
    "    \"\"\"\n",
    "    Write your code here\n",
    "    \"\"\"     \n",
    "    return count/len(transactions)"
   ]
  },
  {
   "cell_type": "code",
   "execution_count": null,
   "id": "badf9019",
   "metadata": {},
   "outputs": [],
   "source": [
    "# test the written function\n",
    "assert support(\"a\", [[\"a\",\"b\",\"c\"], [\"a\",\"b\",\"d\"], [\"b\",\"c\"], [\"a\",\"c\"]], 1) == 0.75\n",
    "assert support(\"d\", [[\"a\",\"b\",\"c\"], [\"a\",\"b\",\"d\"], [\"b\",\"c\"], [\"a\",\"c\"]], 1) == 0.25\n",
    "assert support([\"a\",\"b\"], [[\"a\",\"b\",\"c\"], [\"a\",\"b\",\"d\"], [\"b\",\"c\"], [\"a\",\"c\"]], 2) == 0.5\n",
    "print(\"tests passed\")"
   ]
  },
  {
   "cell_type": "markdown",
   "id": "98f6cf06",
   "metadata": {},
   "source": [
    "## Write the Apriori function"
   ]
  },
  {
   "cell_type": "markdown",
   "id": "27985af5",
   "metadata": {},
   "source": [
    "PLEASE REVIEW our lecture note, and write the code below!"
   ]
  },
  {
   "cell_type": "code",
   "execution_count": null,
   "id": "fa59c8bf",
   "metadata": {},
   "outputs": [],
   "source": [
    "# for now this function will just print some results for us to observe, \n",
    "# rather than return them in a data structure\n",
    "\n",
    "def apriori(level,transactions,items,minsup):\n",
    "    \n",
    "    print(\"\\nLevel: \"+str(level))\n",
    "    \n",
    "    # set for items with support value that is high enough\n",
    "    retain = set()\n",
    "    \n",
    "    # find items with support value that is high enough\n",
    "    \"\"\"\n",
    "    Write your code here\n",
    "    \"\"\"     \n",
    "    print(\"Retain: \"+str(retain))\n",
    "    \n",
    "    level = level+1\n",
    "        \n",
    "    # generate new candidates\n",
    "    newsets=mingle(retain,level)\n",
    "    print(\"New itemsets: \"+str(newsets))    \n",
    "    \n",
    "    # stop if no candidates are left or you will put all items in one set\n",
    "    if len(newsets)!=0 and level<len(items)+1:\n",
    "        apriori(level,transactions,newsets,minsup)"
   ]
  },
  {
   "cell_type": "code",
   "execution_count": null,
   "id": "c282510b",
   "metadata": {},
   "outputs": [],
   "source": [
    "apriori(1, [[\"a\",\"b\",\"c\"], [\"a\",\"b\",\"d\"], [\"b\",\"c\"]], {\"a\",\"b\",\"c\", \"d\"}, 0.6)"
   ]
  },
  {
   "cell_type": "markdown",
   "id": "83943b80",
   "metadata": {},
   "source": [
    "## Use this to run the complete algorithm."
   ]
  },
  {
   "cell_type": "code",
   "execution_count": null,
   "id": "9f3c0a25",
   "metadata": {},
   "outputs": [],
   "source": [
    "# open the data\n",
    "file = open('data/baskets.csv','r')\n",
    "\n",
    "transactions = []\n",
    "items = set()\n",
    "\n",
    "# save all transactions and items\n",
    "for line in file:\n",
    "    line = line.replace('\\n','')\n",
    "    litems = line.split(',')\n",
    "    transactions.append(litems)\n",
    "    for item in litems:\n",
    "        items.add(item)\n",
    "\n",
    "# apply Apriori algorithm\n",
    "apriori(1,transactions,items,0.6)   "
   ]
  },
  {
   "cell_type": "code",
   "execution_count": null,
   "id": "9dcbb9ad",
   "metadata": {},
   "outputs": [],
   "source": []
  },
  {
   "cell_type": "markdown",
   "id": "aebacec9",
   "metadata": {},
   "source": [
    "# Collaborative filtering"
   ]
  },
  {
   "cell_type": "markdown",
   "id": "a56c839c",
   "metadata": {},
   "source": [
    "Here we use the cosine similarity in order to find similar users that we can recommend products."
   ]
  },
  {
   "cell_type": "code",
   "execution_count": null,
   "id": "2f0b533c",
   "metadata": {},
   "outputs": [],
   "source": [
    "from sklearn.metrics.pairwise import cosine_similarity\n",
    "from scipy.spatial.distance import cosine"
   ]
  },
  {
   "cell_type": "markdown",
   "id": "acaea209",
   "metadata": {},
   "source": [
    "## Load data"
   ]
  },
  {
   "cell_type": "code",
   "execution_count": null,
   "id": "d31ca9ae",
   "metadata": {},
   "outputs": [],
   "source": [
    "# load data\n",
    "ratings = pd.read_csv('data/ratings.csv')\n",
    "\n",
    "# sample dataset\n",
    "# be careful, large dataset!\n",
    "ratings = ratings[:10000]\n",
    "\n",
    "print(ratings.head())\n",
    "\n",
    "# print some information\n",
    "noMovies = len(ratings['movieId'].unique())\n",
    "noUsers = len(ratings['userId'].unique())\n",
    "print(str(noMovies)+\" from \"+str(noUsers)+' users')"
   ]
  },
  {
   "cell_type": "markdown",
   "id": "1ac23c63",
   "metadata": {},
   "source": [
    "## Create an empty perons_ratings matrix"
   ]
  },
  {
   "cell_type": "code",
   "execution_count": null,
   "id": "63436c62",
   "metadata": {},
   "outputs": [],
   "source": [
    "perons_ratings = np.zeros(shape=(noUsers,noMovies))\n",
    "perons_ratings"
   ]
  },
  {
   "cell_type": "markdown",
   "id": "05f45207",
   "metadata": {},
   "source": [
    "Store movieIds as indices to use in perons_ratings matrix as the current indices don't match the sequential indices that a matrix uses."
   ]
  },
  {
   "cell_type": "code",
   "execution_count": null,
   "id": "946a897a",
   "metadata": {},
   "outputs": [],
   "source": [
    "movieIds = {}\n",
    "midi = 0\n",
    "for value in ratings['movieId'].unique():\n",
    "    movieIds[value]=midi\n",
    "    midi = midi + 1"
   ]
  },
  {
   "cell_type": "markdown",
   "id": "dc07721d",
   "metadata": {},
   "source": [
    "Populate the perons_ratings matrix by looping all the rows in the ratings dataframe"
   ]
  },
  {
   "cell_type": "code",
   "execution_count": null,
   "id": "2bc7a587",
   "metadata": {},
   "outputs": [],
   "source": [
    "for index, line in ratings.iterrows():\n",
    "    uid = int(line['userId'])-1\n",
    "    mid = movieIds[line['movieId']]\n",
    "    rating = line['rating']\n",
    "    # store the rating in the perons_ratings matrix at row user id - uid and column movie - mid\n",
    "    perons_ratings[uid,mid]=rating\n",
    "    \n",
    "perons_ratings"
   ]
  },
  {
   "cell_type": "markdown",
   "id": "e7bdf4aa",
   "metadata": {},
   "source": [
    "Then we need to write two functions, one is to `find similar user` and the other one is to `find new product`!\n",
    "\n",
    "\n",
    "**Note: the best solution is to write a class and you can put all global variables inside the function. However, here, to simplify the code for understanding, we write two functions and use global variables (it is not a good habit).** \n",
    "\n",
    "Of course, if you have interests and you're familiar with Python class, I believe you can do better by writing these functions in a class."
   ]
  },
  {
   "cell_type": "markdown",
   "id": "09853ae4",
   "metadata": {},
   "source": [
    "## Write a function to find similar users"
   ]
  },
  {
   "cell_type": "code",
   "execution_count": null,
   "id": "8e421bf0",
   "metadata": {},
   "outputs": [],
   "source": [
    "def findSimilarUsers(person_number, minCos):\n",
    "    # list for similar users\n",
    "    similar_users = []\n",
    "    \n",
    "    # for all other users\n",
    "    \"\"\"\n",
    "    Write your code here, we can consider perons_ratings and minCos as global variables\n",
    "    \"\"\"   \n",
    "    print(\"#similar users: \"+str(len(similar_users)))\n",
    "    return similar_users"
   ]
  },
  {
   "cell_type": "markdown",
   "id": "5d7d1dad",
   "metadata": {},
   "source": [
    "## Write a function to find new product"
   ]
  },
  {
   "cell_type": "code",
   "execution_count": null,
   "id": "ab4b212b",
   "metadata": {},
   "outputs": [],
   "source": [
    "def findNewProducts(similar_users,person_number, minScore):\n",
    "    if len(similar_users)>0:\n",
    "        # celli stands for the column number of the perons_ratings matrix, i.e., a movie\n",
    "        for movie_number in range(len(perons_ratings[person_number])-1):\n",
    "            # if there is no rating for our current user, calculate new score\n",
    "                \"\"\"\n",
    "                Write your code here, we can consider perons_ratings as global variable\n",
    "                \"\"\" "
   ]
  },
  {
   "cell_type": "markdown",
   "id": "8934ccb1",
   "metadata": {},
   "source": [
    "## Complete the experiment"
   ]
  },
  {
   "cell_type": "code",
   "execution_count": null,
   "id": "a1043900",
   "metadata": {
    "scrolled": false
   },
   "outputs": [],
   "source": [
    "# minimum cosine similarity\n",
    "minCos = 0.8\n",
    "\n",
    "for row_number in range(0,len(perons_ratings)-1):\n",
    "    print(\"\\nFinding recommendations for user \"+str(row_number))\n",
    "    simmilarUsers = findSimilarUsers(row_number)\n",
    "    findNewProducts(simmilarUsers,row_number)"
   ]
  },
  {
   "cell_type": "code",
   "execution_count": null,
   "id": "9d7f29fa",
   "metadata": {},
   "outputs": [],
   "source": []
  }
 ],
 "metadata": {
  "kernelspec": {
   "display_name": "Python 3 (ipykernel)",
   "language": "python",
   "name": "python3"
  },
  "language_info": {
   "codemirror_mode": {
    "name": "ipython",
    "version": 3
   },
   "file_extension": ".py",
   "mimetype": "text/x-python",
   "name": "python",
   "nbconvert_exporter": "python",
   "pygments_lexer": "ipython3",
   "version": "3.9.13"
  }
 },
 "nbformat": 4,
 "nbformat_minor": 5
}
