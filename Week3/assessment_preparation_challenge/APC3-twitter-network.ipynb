{
 "cells": [
  {
   "cell_type": "markdown",
   "id": "da477758",
   "metadata": {},
   "source": [
    "# Assessment Preparation Challenge"
   ]
  },
  {
   "cell_type": "markdown",
   "id": "b5f1663b",
   "metadata": {},
   "source": [
    "- These challenges are optional, are not marked and are just for you.\n",
    "- But they will prepare you for the course’s final assesment. If you complete all of the challenges, you will have a much easier to do the final assesment.\n",
    "- you will **NOT** be given answers to them, because large parts of the assesment will be very simmilar and if we gave you the answers you could copy-paste parts of it for assesment which would defeat the purpose of the assesment :)"
   ]
  },
  {
   "cell_type": "code",
   "execution_count": null,
   "id": "85c4f51d",
   "metadata": {},
   "outputs": [],
   "source": [
    "# run this at the beginning of the class to load all dependancies \n",
    "# (you can run things with Shift+Enter keyboard shortcut, or with the RUN button above)\n",
    "\n",
    "import networkx as nx\n",
    "import matplotlib.pyplot as plt\n",
    "import os\n",
    "from urllib.request import urlopen\n",
    "from bs4 import BeautifulSoup\n",
    "import pprint as pp\n",
    "import requests\n",
    "import networkx as nx\n",
    "import matplotlib.pyplot as plt"
   ]
  },
  {
   "cell_type": "markdown",
   "id": "7d954a33",
   "metadata": {},
   "source": [
    "## Challange 3: Given a twitter following of 'company X' what can you deduce from the data?"
   ]
  },
  {
   "cell_type": "markdown",
   "id": "7062ba58",
   "metadata": {},
   "source": [
    "```\n",
    "note that this exercise is highly exploratory and is rather about you playing with data, than achieving any particular goal.\n",
    "```"
   ]
  },
  {
   "cell_type": "markdown",
   "id": "eba95ab1",
   "metadata": {},
   "source": [
    "Read and diagram the contents of the file `twitter_followers_of_company_x.csv`. \n",
    "\n",
    "It contains anonymised twitter followers of a certain data science related institution in Edinburgh. In the data the company we 'work for' is encoded as companyX."
   ]
  },
  {
   "cell_type": "markdown",
   "id": "68018fb3",
   "metadata": {},
   "source": [
    "- look at the measurements, what can they tell you? Are some nodes more important? In what way?\n",
    "- what if you limit the data to just some subset of it?\n",
    "- can you try to program something you learned during the lectures about social networks?"
   ]
  },
  {
   "cell_type": "markdown",
   "id": "fb057970",
   "metadata": {},
   "source": [
    "**Use code from parts of code from this week's notebooks to help you.**"
   ]
  },
  {
   "cell_type": "markdown",
   "id": "49d748ee",
   "metadata": {},
   "source": [
    "Have a look at the data. Format of the data is accound_id, followed by people who follow them (twitter calls it their 'friends')."
   ]
  },
  {
   "cell_type": "markdown",
   "id": "989cd505",
   "metadata": {},
   "source": [
    "some_user_x, account_that_follows_x, another_account_that_follows_x, another_account_that_follows_x, So for example\n",
    "\n",
    "```\n",
    "company_x,oyster_marshmallow,ruby_hogbean,cherry_basil\n",
    "dollar_meadowsweet,banana_marshmallow,cherry_basil\n",
    "cherry_basil,banana_marshmallow\n",
    "banana_marshmallow\n",
    "```\n",
    "means that 3 accounts follow company_x. But no-one follows banana_marshmallow."
   ]
  },
  {
   "cell_type": "markdown",
   "id": "5b1d6e8d",
   "metadata": {},
   "source": [
    "**Note that this file is rather large (500 accounts) so generating even a simple graph will take a while. (a minute, or more)** If you cannot accept the speed of `networkx`, you can consider `graph-tool` (https://graph-tool.skewed.de/static/doc/quickstart.html), which is much faster than `networkx`."
   ]
  },
  {
   "cell_type": "markdown",
   "id": "a7716cbc",
   "metadata": {},
   "source": [
    "you might choose to filter it and keep only some accounts. (eg. the ones with company_x, or the ones with more followers than some number) to speed up the process."
   ]
  },
  {
   "cell_type": "code",
   "execution_count": null,
   "id": "77dad768",
   "metadata": {
    "scrolled": false
   },
   "outputs": [],
   "source": [
    "G = nx.read_adjlist('twitter_followers_of_company_x.csv', delimiter=\",\", create_using=nx.DiGraph())\n",
    "# note, without  create_using=nx.DiGraph() you might not see any edges at this scale\n",
    "\n",
    "degree = nx.degree_centrality(G)\n",
    "pp.pprint(degree)"
   ]
  },
  {
   "cell_type": "code",
   "execution_count": null,
   "id": "6019e381",
   "metadata": {},
   "outputs": [],
   "source": [
    "# It might be very slow! Be careful and patient!\n",
    "pos = nx.spring_layout(G)\n",
    "\n",
    "nx.draw(G, pos, node_size = 5, width = 1)\n",
    "plt.show()"
   ]
  },
  {
   "cell_type": "code",
   "execution_count": null,
   "id": "4cb3aab1",
   "metadata": {},
   "outputs": [],
   "source": [
    "# hint. for filtering, you can use Dictionary comprehension.\n",
    "# ir works just like List comprehension but on tupples (key, value) pairs\n",
    "\n",
    "some_accounts_degree = {'alabaster_acacia': 0.2693877551020408,\n",
    " 'alabaster_foxglove': 0.16938775510204082,\n",
    " 'alabaster_hepatica': 0.08979591836734695,\n",
    " 'alabaster_marshmallow': 0.32040816326530613,\n",
    " 'amber_aloe': 0.20816326530612247 }\n",
    "\n",
    "high_degree_accounts = { key:value \n",
    "                         for (key,value) in some_accounts_degree.items()\n",
    "                         if value > 0.2 }\n",
    "high_degree_accounts"
   ]
  },
  {
   "cell_type": "code",
   "execution_count": null,
   "id": "8412d67a",
   "metadata": {},
   "outputs": [],
   "source": []
  }
 ],
 "metadata": {
  "kernelspec": {
   "display_name": "Python 3 (ipykernel)",
   "language": "python",
   "name": "python3"
  },
  "language_info": {
   "codemirror_mode": {
    "name": "ipython",
    "version": 3
   },
   "file_extension": ".py",
   "mimetype": "text/x-python",
   "name": "python",
   "nbconvert_exporter": "python",
   "pygments_lexer": "ipython3",
   "version": "3.9.13"
  }
 },
 "nbformat": 4,
 "nbformat_minor": 5
}
