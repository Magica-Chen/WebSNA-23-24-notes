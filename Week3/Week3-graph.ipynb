{
 "cells": [
  {
   "cell_type": "markdown",
   "id": "b5b16f34",
   "metadata": {},
   "source": [
    "In social network analysis, the basic mathematical tool is graph theory. In this notebook, we will go through some basic graph practice, for example,\n",
    "1. how to build simple social network graphs\n",
    "2. how to customise the graph with extra variables and how to use them \n",
    "3. how to build a directional graphs"
   ]
  },
  {
   "cell_type": "code",
   "execution_count": null,
   "id": "2f7528c7",
   "metadata": {
    "scrolled": true
   },
   "outputs": [],
   "source": [
    "!pip install --upgrade decorator\n",
    "!pip install --upgrade networkx\n",
    "!pip install scipy==1.8.0 # please make sure your scipy version is 1.8.0 in order to run scripy.sparse.coo_array in the package of network\n",
    "!pip install --upgrade requests"
   ]
  },
  {
   "cell_type": "code",
   "execution_count": null,
   "id": "90eecbe4",
   "metadata": {},
   "outputs": [],
   "source": [
    "import networkx as nx\n",
    "import matplotlib.pyplot as plt\n",
    "import pprint as pp"
   ]
  },
  {
   "cell_type": "markdown",
   "id": "ec45bd43",
   "metadata": {},
   "source": [
    "# Greate your own graph"
   ]
  },
  {
   "cell_type": "markdown",
   "id": "083217a1",
   "metadata": {},
   "source": [
    "We can simply start adding edges by naming the nodes that are connected. Here, a weight (optional) is immediately included as well."
   ]
  },
  {
   "cell_type": "code",
   "execution_count": null,
   "id": "ed1012bf",
   "metadata": {},
   "outputs": [],
   "source": [
    "# initialise a graph\n",
    "G = nx.Graph()\n",
    "\n",
    "# add edges\n",
    "# Weight means how many business trips between these two cities (not real data)\n",
    "G.add_edge('London','Birmingham', weight = 5)\n",
    "G.add_edge('London','Brighton', weight = 1)\n",
    "G.add_edge('London','Bristol', weight = 1)\n",
    "G.add_edge('London','York', weight = 2)\n",
    "G.add_edge('York','Edinburgh', weight = 3)\n",
    "G.add_edge('Edinburgh','Glasgow', weight = 2)"
   ]
  },
  {
   "cell_type": "markdown",
   "id": "b622c6b3",
   "metadata": {},
   "source": [
    "Describe edge and node"
   ]
  },
  {
   "cell_type": "code",
   "execution_count": null,
   "id": "134be6e0",
   "metadata": {},
   "outputs": [],
   "source": [
    "print('Edges')\n",
    "print( G.number_of_edges())\n",
    "print( G.edges())\n",
    "print( )\n",
    "\n",
    "print('Nodes')\n",
    "print( G.number_of_nodes())\n",
    "print( G.nodes())"
   ]
  },
  {
   "cell_type": "markdown",
   "id": "7a834e81",
   "metadata": {},
   "source": [
    "We can obtain various statistics regarding nodes:"
   ]
  },
  {
   "cell_type": "code",
   "execution_count": null,
   "id": "aaeb6a9f",
   "metadata": {},
   "outputs": [],
   "source": [
    "for node in G.nodes():\n",
    "    print('Number of neighbours of ', node, ':\\t', len(G.adj[node]))\n",
    "    print('Neighbours of ', node, ': ', G.adj[node])\n",
    "    print('Degree: ', G.degree(node))\n",
    "    print()"
   ]
  },
  {
   "cell_type": "code",
   "execution_count": null,
   "id": "1b3f75e4",
   "metadata": {},
   "outputs": [],
   "source": [
    "node_of_interest = \"London\"\n",
    "\n",
    "for node in G.neighbors(node_of_interest):\n",
    "    print(node_of_interest, 'is a connected to', node )"
   ]
  },
  {
   "cell_type": "markdown",
   "id": "f41f28df",
   "metadata": {},
   "source": [
    "Drawing a graph is relatively straightforward as well:"
   ]
  },
  {
   "cell_type": "code",
   "execution_count": null,
   "id": "d59461f0",
   "metadata": {},
   "outputs": [],
   "source": [
    "# Fruchterman-Reingold force-directed algorithm\n",
    "pos = nx.spring_layout(G)\n",
    "pp.pprint(pos)\n",
    "\n",
    "nx.draw(G, pos, with_labels= True, node_size = 500)\n",
    "plt.show()"
   ]
  },
  {
   "cell_type": "markdown",
   "id": "473778e6",
   "metadata": {},
   "source": [
    "It looks the nodes are a little small, let's re-scale the size of nodes"
   ]
  },
  {
   "cell_type": "code",
   "execution_count": null,
   "id": "7f2c4f27",
   "metadata": {},
   "outputs": [],
   "source": [
    "sizes = [G.degree(node) **2 * 500 # multiply\n",
    "         for node in G.nodes()\n",
    "        ]\n",
    "    \n",
    "# pos = nx.spring_layout(G) \n",
    "# notice, you do not need to re-calculate spring layout, can just reuse previous positions \n",
    "\n",
    "nx.draw(G, pos, with_labels= True, node_size = sizes)\n",
    "plt.show()"
   ]
  },
  {
   "cell_type": "markdown",
   "id": "61368af9",
   "metadata": {},
   "source": [
    "## **!!! Open Questions: Can you also try to resize the edge based on the weights?**"
   ]
  },
  {
   "cell_type": "markdown",
   "id": "01653d42",
   "metadata": {},
   "source": [
    "# Extra variables"
   ]
  },
  {
   "cell_type": "markdown",
   "id": "29f99f48",
   "metadata": {},
   "source": [
    "We can assign extra variables to a connection. This can be done either you're creating nodes, or after they're already created. You might have reasons for one or the other.\n",
    "- Adding variables when creating a node is easier, e.g., when you're loading values from a file.\n",
    "- Adding once the graph is created can give you values, such as position or degree."
   ]
  },
  {
   "cell_type": "code",
   "execution_count": null,
   "id": "093b0ac2",
   "metadata": {},
   "outputs": [],
   "source": [
    "# initialise a graph\n",
    "G = nx.Graph()\n",
    "\n",
    "# Here I am adding a value for each connection, showing the distance between \n",
    "# these two cities (this is not the accurate data).\n",
    "\n",
    "# you can come up with ANY variable name you want, and it will be added to the edge\n",
    "\n",
    "# add edges\n",
    "G.add_edge('London','Birmingham', weight = 5, distance=2)\n",
    "G.add_edge('London','Brighton', weight = 1, distance=1)\n",
    "G.add_edge('London','Bristol', weight = 1, distance=2)\n",
    "G.add_edge('London','York', weight = 2, distance=3)\n",
    "G.add_edge('York','Edinburgh', weight = 3, distance=2)\n",
    "G.add_edge('Edinburgh','Glasgow', weight = 2, distance=1)\n",
    "\n",
    "# get widths by getting value of 'distance' from each edge's data\n",
    "widths = [G[edge[0]][edge[1]].get('distance',1)\n",
    "          for edge in G.edges()]\n",
    "\n",
    "sizes = [G.degree(node) **2 * 500 # exponential. in python **2 means 'to the power of 2'\n",
    "         for node in G.nodes()\n",
    "        ]\n",
    "\n",
    "#recap: some_dictionary.get() takes two arguments: key to find, and default value if key not present\n",
    "\n",
    "print(widths)\n",
    "pos = nx.spring_layout(G)\n",
    "\n",
    "nx.draw(G, pos, with_labels= True, node_size = sizes, width= widths)\n",
    "plt.show()"
   ]
  },
  {
   "cell_type": "markdown",
   "id": "38f5c1d8",
   "metadata": {},
   "source": [
    "It looks a little weired because distance shown in the graph is not the distance between two cities. \n",
    "\n",
    "## **!!!Open Question, can you change the roles of 'weights' and 'distance' shown in the graphs?**"
   ]
  },
  {
   "cell_type": "markdown",
   "id": "3f03dd8c",
   "metadata": {},
   "source": [
    "For many reasons, you want to add variables to edges even the graph was created."
   ]
  },
  {
   "cell_type": "markdown",
   "id": "249a7f31",
   "metadata": {},
   "source": [
    "You could do it like in the example below where we access value of a node that had to be calculated (eg. number of neighbours, or other metric)"
   ]
  },
  {
   "cell_type": "code",
   "execution_count": null,
   "id": "8d3b69f1",
   "metadata": {},
   "outputs": [],
   "source": [
    "for edge in G.edges():\n",
    "    print(\"edge as tupple:\",edge)\n",
    "    source = edge[0]\n",
    "    target = edge[1]\n",
    "    source_neighbours_count =  len(list(G.neighbors(source)))\n",
    "    target_neighbours_count = len(list(G.neighbors(target)))\n",
    "    G[source][target]['total_neighbours'] = source_neighbours_count + target_neighbours_count\n",
    "    \n",
    "for edge in G.edges():\n",
    "    print(G.get_edge_data(edge[0], edge[1]))"
   ]
  },
  {
   "cell_type": "markdown",
   "id": "c84b646e",
   "metadata": {},
   "source": [
    "These are useful for drawing, e.g., the edge width.\n",
    "\n",
    "We can add the widths as an argument to the draw function:"
   ]
  },
  {
   "cell_type": "code",
   "execution_count": null,
   "id": "d8bd2086",
   "metadata": {},
   "outputs": [],
   "source": [
    "widths = [G[edge[0]][edge[1]].get('total_neighbours',1) **2\n",
    "          for edge in G.edges()]\n",
    "\n",
    "print(widths)\n",
    "\n",
    "pos = nx.spring_layout(G)\n",
    "\n",
    "nx.draw(G, pos, with_labels= True, node_size = sizes, width= widths)\n",
    "plt.show()"
   ]
  },
  {
   "cell_type": "markdown",
   "id": "e2db397d",
   "metadata": {},
   "source": [
    "# Draw a directed graphs"
   ]
  },
  {
   "cell_type": "code",
   "execution_count": null,
   "id": "1ee4b72e",
   "metadata": {},
   "outputs": [],
   "source": [
    "DG = nx.DiGraph()\n",
    "DG.add_edge('beyonce','mia', weight = 5)\n",
    "DG.add_edge('beyonce','azealia', weight = 1)\n",
    "DG.add_edge('beyonce','jayz', weight = 1)\n",
    "DG.add_edge('beyonce','madonna', weight = 2)\n",
    "DG.add_edge('madonna','azealia', weight = 1)\n",
    "DG.add_edge('nicki','azealia', weight = 1)\n",
    "\n",
    "DG.add_edge('mia','beyonce', weight = 5)\n",
    "DG.add_edge('jayz','beyonce', weight = 1)\n",
    "DG.add_edge('mia','jayz', weight = 2)\n",
    "\n",
    "pos = nx.spring_layout(DG)\n",
    "\n",
    "nx.draw(DG, pos, with_labels= True, node_size = 2000, width=2)\n",
    "plt.show()"
   ]
  },
  {
   "cell_type": "markdown",
   "id": "1e9da26d",
   "metadata": {},
   "source": [
    "## Exercise 1: Draw a network graph of Edinburgh Wavelet Train Station"
   ]
  },
  {
   "cell_type": "markdown",
   "id": "9044db27",
   "metadata": {},
   "source": [
    "## Exercise 2: Draw a directed graphs of your choice"
   ]
  },
  {
   "cell_type": "code",
   "execution_count": null,
   "id": "3d994d21",
   "metadata": {},
   "outputs": [],
   "source": []
  },
  {
   "cell_type": "markdown",
   "id": "5385b348",
   "metadata": {},
   "source": [
    "# More graphs"
   ]
  },
  {
   "cell_type": "markdown",
   "id": "6538f60b",
   "metadata": {},
   "source": [
    "In the next, we will look at:\n",
    "- Loading and saving graph data into files, refer to https://networkx.org/documentation/stable/reference/readwrite/index.html\n",
    "- Using bipartite graphs with two types of nodes\n",
    "- styling graphs"
   ]
  },
  {
   "cell_type": "markdown",
   "id": "2172356d",
   "metadata": {},
   "source": [
    "## Write and read from edgelist"
   ]
  },
  {
   "cell_type": "markdown",
   "id": "9e99b519",
   "metadata": {},
   "source": [
    "edge list format is: `Source Destination {'attribute':value}`"
   ]
  },
  {
   "cell_type": "code",
   "execution_count": null,
   "id": "4df3939a",
   "metadata": {},
   "outputs": [],
   "source": [
    "# initialise a graph\n",
    "G = nx.Graph()\n",
    "\n",
    "# add edges\n",
    "# Weight means how many business trips between these two cities (not real data)\n",
    "G.add_edge('London','Birmingham', weight = 5)\n",
    "G.add_edge('London','Brighton', weight = 1)\n",
    "G.add_edge('London','Bristol', weight = 1)\n",
    "G.add_edge('London','York', weight = 2)\n",
    "G.add_edge('York','Edinburgh', weight = 3)\n",
    "G.add_edge('Edinburgh','Glasgow', weight = 2)\n",
    "\n",
    "nx.draw(G, with_labels= True, node_size = 500)\n",
    "plt.show()"
   ]
  },
  {
   "cell_type": "code",
   "execution_count": null,
   "id": "7f25ba9d",
   "metadata": {},
   "outputs": [],
   "source": [
    "# you can save your graph as a file:\n",
    "nx.write_edgelist(G,'data/graph_city_edgelist.csv') # save to a new file"
   ]
  },
  {
   "cell_type": "code",
   "execution_count": null,
   "id": "eae3cb4f",
   "metadata": {},
   "outputs": [],
   "source": [
    "# Also we can read it from a csv file.\n",
    "G = nx.read_edgelist('data/graph_city_edgelist.csv')\n",
    "\n",
    "nx.draw(G, with_labels= True, node_size = 1000)\n",
    "plt.show()"
   ]
  },
  {
   "cell_type": "markdown",
   "id": "03328367",
   "metadata": {},
   "source": [
    "## Write and read from adjacency list"
   ]
  },
  {
   "cell_type": "markdown",
   "id": "30880c31",
   "metadata": {},
   "source": [
    "Adjacency list format: `source target target target target`"
   ]
  },
  {
   "cell_type": "code",
   "execution_count": null,
   "id": "c33645f2",
   "metadata": {},
   "outputs": [],
   "source": [
    "# save to a new file\n",
    "nx.write_adjlist(G,'data/graph_city_adjacency.csv') "
   ]
  },
  {
   "cell_type": "code",
   "execution_count": null,
   "id": "fcd0974f",
   "metadata": {},
   "outputs": [],
   "source": [
    "G = nx.read_adjlist('data/graph_city_adjacency.csv')\n",
    "\n",
    "nx.draw(G, with_labels= True, node_size = 500)\n",
    "plt.show()"
   ]
  },
  {
   "cell_type": "markdown",
   "id": "2a708416",
   "metadata": {},
   "source": [
    "## Bipartite graphs"
   ]
  },
  {
   "cell_type": "markdown",
   "id": "ca662ff2",
   "metadata": {},
   "source": [
    "Bipartite graphs contain two types of nodes. They are not a different object, but you can specify the type of connection by using the bipartite attribute:"
   ]
  },
  {
   "cell_type": "code",
   "execution_count": null,
   "id": "3b4c6361",
   "metadata": {},
   "outputs": [],
   "source": [
    "from networkx.algorithms import bipartite"
   ]
  },
  {
   "cell_type": "code",
   "execution_count": null,
   "id": "35a8eaec",
   "metadata": {},
   "outputs": [],
   "source": [
    "B = nx.Graph()\n",
    "\n",
    "# Add nodes with the node attribute \"bipartite\"\n",
    "B.add_nodes_from([\"jill\", \"nicky\", \"tessa\", \"aga\", \"ecka\", \"min\", \"paola\"], bipartite=0)\n",
    "B.add_nodes_from([\"netflix\", \"facebook\", \"instagram\"], bipartite=1)\n",
    "\n",
    "B.add_edge('jill','netflix')\n",
    "B.add_edge('jill','facebook')\n",
    "B.add_edge('jill','instagram')\n",
    "B.add_edge('nicky','facebook')\n",
    "B.add_edge('nicky','instagram')\n",
    "B.add_edge('tessa','instagram')\n",
    "B.add_edge('aga','instagram')\n",
    "B.add_edge('aga','netflix')\n",
    "B.add_edge('ecka','instagram')\n",
    "B.add_edge('ecka','facebook')\n",
    "B.add_edge('min','instagram')\n",
    "B.add_edge('paola','instagram')\n",
    "\n",
    "\n",
    "print(B.edges()) #all edges"
   ]
  },
  {
   "cell_type": "code",
   "execution_count": null,
   "id": "09955b85",
   "metadata": {},
   "outputs": [],
   "source": [
    "print(bipartite.color(B)) # returns values of 'bipartite' variable"
   ]
  },
  {
   "cell_type": "code",
   "execution_count": null,
   "id": "d5736d2d",
   "metadata": {},
   "outputs": [],
   "source": [
    "def nodes_colours(graph):\n",
    "    nodes = graph.nodes() # nodes in correct order\n",
    "    colours_dict = bipartite.color(graph) # dict with 0 or 1 telling you which group node is in\n",
    "    return [\n",
    "        \"lightblue\" if colours_dict[node] == 1 else \"red\"\n",
    "        for node in nodes\n",
    "    ]\n",
    "\n",
    "pos = nx.spring_layout(B)\n",
    "\n",
    "nx.draw(B, pos, with_labels= True, node_size = 2000, width = 3, node_color = nodes_colours(B)  )\n",
    "plt.show()"
   ]
  },
  {
   "cell_type": "markdown",
   "id": "5aba28ee",
   "metadata": {},
   "source": [
    "## Another approach to style and specify details of a graph"
   ]
  },
  {
   "cell_type": "code",
   "execution_count": null,
   "id": "cad238b4",
   "metadata": {},
   "outputs": [],
   "source": [
    "users = [node for node in B.nodes() if bipartite.color(B)[node]==1]\n",
    "websites = [node for node in B.nodes() if bipartite.color(B)[node]!=1]\n",
    "print(\"websites\",websites)\n",
    "print(\"users\",users)"
   ]
  },
  {
   "cell_type": "code",
   "execution_count": null,
   "id": "3155b9c1",
   "metadata": {},
   "outputs": [],
   "source": [
    "nodePos = nx.spring_layout(B)\n",
    "\n",
    "nx.draw_networkx_nodes(B, nodePos, \n",
    "                       nodelist=websites, \n",
    "                       node_size = 1500, \n",
    "                       node_color ='red', \n",
    "                       node_shape ='o')\n",
    "\n",
    "nx.draw_networkx_nodes(B, nodePos, \n",
    "                       nodelist=users, \n",
    "                       node_size=1000, \n",
    "                       node_color ='lightblue', \n",
    "                       node_shape ='s')\n",
    "\n",
    "nx.draw_networkx_labels(B, pos=nodePos, font_size=15, \n",
    "                        font_family='sans-serif')\n",
    "\n",
    "nx.draw_networkx_edges(B,nodePos)\n",
    "\n",
    "\n",
    "plt.axis('off')\n",
    "plt.show()"
   ]
  },
  {
   "cell_type": "code",
   "execution_count": null,
   "id": "c08c7c07",
   "metadata": {},
   "outputs": [],
   "source": []
  },
  {
   "cell_type": "markdown",
   "id": "9ebc03ca",
   "metadata": {},
   "source": [
    "# Graph metrics"
   ]
  },
  {
   "cell_type": "markdown",
   "id": "aed84478",
   "metadata": {},
   "source": [
    "In the next, we will look at graph metrics:\n",
    "- degree\n",
    "- bewteenness\n",
    "- pagerank\n",
    "- hits"
   ]
  },
  {
   "cell_type": "code",
   "execution_count": null,
   "id": "3f159cbd",
   "metadata": {},
   "outputs": [],
   "source": [
    "import pandas as pd\n",
    "from scipy import sparse"
   ]
  },
  {
   "cell_type": "code",
   "execution_count": null,
   "id": "9be2a2fb",
   "metadata": {},
   "outputs": [],
   "source": [
    "# import a dataframe\n",
    "df = pd.read_csv('data/graph_simple.csv', index_col = 0)\n",
    "print(df)"
   ]
  },
  {
   "cell_type": "code",
   "execution_count": null,
   "id": "92525989",
   "metadata": {},
   "outputs": [],
   "source": [
    "# use this dataframe to build the network\n",
    "DG = nx.DiGraph()\n",
    "for row, row_values in df.iterrows():\n",
    "    print('\\nNode: ', row)\n",
    "    for column, value in enumerate(row_values):\n",
    "        if value > 0:\n",
    "            print('Connected to ', df.columns[column], ' with weight: ', value)\n",
    "            DG.add_edge(row, df.columns[column], weight=value)"
   ]
  },
  {
   "cell_type": "code",
   "execution_count": null,
   "id": "50c377b0",
   "metadata": {},
   "outputs": [],
   "source": [
    "pos = nx.spring_layout(DG)\n",
    "\n",
    "nx.draw(DG, pos, with_labels= True, node_size = 1000)\n",
    "plt.show()"
   ]
  },
  {
   "cell_type": "code",
   "execution_count": null,
   "id": "526de5dd",
   "metadata": {},
   "outputs": [],
   "source": [
    "import scipy.sparse.linalg\n",
    "degree = nx.degree_centrality(DG)\n",
    "betweenness = nx.betweenness_centrality(DG)\n",
    "pagerank = nx.pagerank(DG)\n",
    "hits = nx.hits(DG)"
   ]
  },
  {
   "cell_type": "code",
   "execution_count": null,
   "id": "fa3e738c",
   "metadata": {},
   "outputs": [],
   "source": [
    "pp.pprint(degree)\n",
    "\n",
    "pos = nx.spring_layout(DG)\n",
    "\n",
    "size = [value * 1000 for value in degree.values()]\n",
    "\n",
    "nx.draw(DG, pos, with_labels= True, node_size = size)\n",
    "plt.title(\"Size scaled to degree\")\n",
    "plt.show()"
   ]
  },
  {
   "cell_type": "code",
   "execution_count": null,
   "id": "e9f7bfc9",
   "metadata": {},
   "outputs": [],
   "source": [
    "pp.pprint(betweenness)\n",
    "\n",
    "pos = nx.spring_layout(DG)\n",
    "\n",
    "size = [(value) * 10000  for value in betweenness.values()]\n",
    "\n",
    "nx.draw(DG, pos, with_labels= True, node_size = size)\n",
    "plt.title(\"Size scaled to betweenness\")\n",
    "plt.show()"
   ]
  },
  {
   "cell_type": "code",
   "execution_count": null,
   "id": "ee23c07b",
   "metadata": {},
   "outputs": [],
   "source": [
    "pp.pprint(pagerank)\n",
    "\n",
    "pos = nx.spring_layout(DG)\n",
    "\n",
    "size = [value * 10000 for value in pagerank.values()]\n",
    "\n",
    "nx.draw(DG, pos, with_labels= True, node_size = size)\n",
    "plt.title(\"Size scaled to PageRank\")\n",
    "plt.show()"
   ]
  },
  {
   "cell_type": "code",
   "execution_count": null,
   "id": "7ee11be8",
   "metadata": {},
   "outputs": [],
   "source": [
    "pp.pprint(hits[0])\n",
    "\n",
    "pos = nx.spring_layout(DG)\n",
    "\n",
    "size = [value * 10000 for value in hits[0].values()]\n",
    "\n",
    "nx.draw(DG, pos, with_labels= True, node_size = size)\n",
    "plt.title(\"Size scaled to hub scores\")\n",
    "plt.show()"
   ]
  },
  {
   "cell_type": "code",
   "execution_count": null,
   "id": "14da765e",
   "metadata": {},
   "outputs": [],
   "source": [
    "print(hits[1])\n",
    "\n",
    "pos = nx.spring_layout(DG)\n",
    "\n",
    "size = [value * 10000 for value in hits[1].values()]\n",
    "\n",
    "nx.draw(DG, pos, with_labels= True, node_size = size)\n",
    "plt.title(\"Size scaled to authority scores\")\n",
    "plt.show()"
   ]
  },
  {
   "cell_type": "markdown",
   "id": "e5fadef3",
   "metadata": {},
   "source": [
    "## **!!! Open Questions which nodes are more likely hubs? which nodes are more likely authority?**\n"
   ]
  },
  {
   "cell_type": "code",
   "execution_count": null,
   "id": "a3314038",
   "metadata": {},
   "outputs": [],
   "source": []
  },
  {
   "cell_type": "markdown",
   "id": "c68780a4",
   "metadata": {},
   "source": [
    "If the network is really complex and large, you may need to consider another tool, **graph-tool**: https://graph-tool.skewed.de/, en efficient Python module for analysing graphs or networks"
   ]
  },
  {
   "cell_type": "code",
   "execution_count": null,
   "id": "feaed11d",
   "metadata": {},
   "outputs": [],
   "source": []
  }
 ],
 "metadata": {
  "kernelspec": {
   "display_name": "Python 3 (ipykernel)",
   "language": "python",
   "name": "python3"
  },
  "language_info": {
   "codemirror_mode": {
    "name": "ipython",
    "version": 3
   },
   "file_extension": ".py",
   "mimetype": "text/x-python",
   "name": "python",
   "nbconvert_exporter": "python",
   "pygments_lexer": "ipython3",
   "version": "3.9.13"
  }
 },
 "nbformat": 4,
 "nbformat_minor": 5
}
