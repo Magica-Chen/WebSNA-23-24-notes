{
 "cells": [
  {
   "cell_type": "markdown",
   "id": "035825bb",
   "metadata": {},
   "source": [
    "# Exercise 1"
   ]
  },
  {
   "cell_type": "code",
   "execution_count": 1,
   "id": "b869ef13",
   "metadata": {},
   "outputs": [],
   "source": [
    "amount = 1000\n",
    "interest_rate = 0.1\n",
    "\n",
    "final_amount = 0"
   ]
  },
  {
   "cell_type": "markdown",
   "id": "dee69974",
   "metadata": {},
   "source": [
    "Use the base amount and interest rate to calculate the final amount after compound interest over 5 years."
   ]
  },
  {
   "cell_type": "code",
   "execution_count": 2,
   "id": "2b1def0f",
   "metadata": {},
   "outputs": [],
   "source": [
    "# Do your calculations here\n",
    "# ..."
   ]
  },
  {
   "cell_type": "code",
   "execution_count": 3,
   "id": "43cd10c5",
   "metadata": {},
   "outputs": [
    {
     "name": "stdout",
     "output_type": "stream",
     "text": [
      "The final amoutn is  0\n"
     ]
    }
   ],
   "source": [
    "print('The final amoutn is ', final_amount)"
   ]
  },
  {
   "cell_type": "code",
   "execution_count": null,
   "id": "6ad5bb8b",
   "metadata": {},
   "outputs": [],
   "source": []
  },
  {
   "cell_type": "markdown",
   "id": "14c64a83",
   "metadata": {},
   "source": [
    "# Exercise 2"
   ]
  },
  {
   "cell_type": "markdown",
   "id": "2331b6db",
   "metadata": {},
   "source": [
    "Calculate how many years you need to obtain a certain amount (e.g. 2000) by starting with an initial amount (e.g. 1000) for a given interest rate (e.g. 2%)"
   ]
  },
  {
   "cell_type": "code",
   "execution_count": 4,
   "id": "ef99290b",
   "metadata": {},
   "outputs": [],
   "source": [
    "amount = 1000\n",
    "target = 2000\n",
    "interest_rate = 0.02\n",
    "\n",
    "number_of_years = 0"
   ]
  },
  {
   "cell_type": "code",
   "execution_count": 5,
   "id": "0b599cf8",
   "metadata": {},
   "outputs": [],
   "source": [
    "# Do your calculations here\n",
    "# ..."
   ]
  },
  {
   "cell_type": "code",
   "execution_count": 6,
   "id": "3b5395e4",
   "metadata": {},
   "outputs": [
    {
     "name": "stdout",
     "output_type": "stream",
     "text": [
      "The number of years needed is  0\n"
     ]
    }
   ],
   "source": [
    "print('The number of years needed is ', number_of_years)"
   ]
  },
  {
   "cell_type": "code",
   "execution_count": null,
   "id": "7c746304",
   "metadata": {},
   "outputs": [],
   "source": []
  },
  {
   "cell_type": "markdown",
   "id": "f5a26653",
   "metadata": {},
   "source": [
    "# Exercise 3"
   ]
  },
  {
   "cell_type": "markdown",
   "id": "7e49c3f2",
   "metadata": {},
   "source": [
    "Remove the duplicates from this list:"
   ]
  },
  {
   "cell_type": "code",
   "execution_count": 7,
   "id": "0f933ad8",
   "metadata": {},
   "outputs": [],
   "source": [
    "name_list = [\"Johannes\", \"Jamal\", \"Jamal\", \"Johannes\", \"Galina\"]"
   ]
  },
  {
   "cell_type": "code",
   "execution_count": 8,
   "id": "3ff06123",
   "metadata": {},
   "outputs": [],
   "source": [
    "# Enter your code here\n",
    "# ..."
   ]
  },
  {
   "cell_type": "markdown",
   "id": "6adf288e",
   "metadata": {},
   "source": [
    "Check the output:"
   ]
  },
  {
   "cell_type": "code",
   "execution_count": 9,
   "id": "51dfe3d8",
   "metadata": {},
   "outputs": [
    {
     "name": "stdout",
     "output_type": "stream",
     "text": [
      "['Johannes', 'Jamal', 'Jamal', 'Johannes', 'Galina']\n"
     ]
    }
   ],
   "source": [
    "print(name_list)"
   ]
  },
  {
   "cell_type": "markdown",
   "id": "2c08c00a",
   "metadata": {},
   "source": [
    "# Exercise 4"
   ]
  },
  {
   "cell_type": "markdown",
   "id": "270c329a",
   "metadata": {},
   "source": [
    "Make a list of all the 4th and 6th letters of a word:"
   ]
  },
  {
   "cell_type": "code",
   "execution_count": 10,
   "id": "c9965f5f",
   "metadata": {},
   "outputs": [],
   "source": [
    "words = [\"Johannes\", \"Jamal\", \"Jamal\", \"Johannes\", \"Galina\"]\n",
    "new_list = []"
   ]
  },
  {
   "cell_type": "code",
   "execution_count": 11,
   "id": "7f1f1c16",
   "metadata": {},
   "outputs": [],
   "source": [
    "# Enter your code here\n",
    "# ..."
   ]
  },
  {
   "cell_type": "code",
   "execution_count": 12,
   "id": "fb886201",
   "metadata": {},
   "outputs": [
    {
     "name": "stdout",
     "output_type": "stream",
     "text": [
      "[]\n"
     ]
    }
   ],
   "source": [
    "print(new_list)"
   ]
  },
  {
   "cell_type": "code",
   "execution_count": null,
   "id": "5985b5ff",
   "metadata": {},
   "outputs": [],
   "source": []
  },
  {
   "cell_type": "markdown",
   "id": "a024752b",
   "metadata": {},
   "source": [
    "# Exercise 5"
   ]
  },
  {
   "cell_type": "markdown",
   "id": "2f899a6d",
   "metadata": {},
   "source": [
    "Create a list of temperatures in Fahrenheit from another list measured in Celsius using comprehensions:"
   ]
  },
  {
   "cell_type": "code",
   "execution_count": 13,
   "id": "468d0b2c",
   "metadata": {},
   "outputs": [],
   "source": [
    "celsius = [15, 18, 32, 19]\n",
    "\n",
    "# Fill in the right comprehension\n",
    "fahrenheit = []"
   ]
  },
  {
   "cell_type": "markdown",
   "id": "6ec26f73",
   "metadata": {},
   "source": [
    "Check the output:"
   ]
  },
  {
   "cell_type": "code",
   "execution_count": 14,
   "id": "cc7b09a0",
   "metadata": {},
   "outputs": [
    {
     "name": "stdout",
     "output_type": "stream",
     "text": [
      "[]\n"
     ]
    }
   ],
   "source": [
    "print(fahrenheit)"
   ]
  },
  {
   "cell_type": "code",
   "execution_count": null,
   "id": "158445b5",
   "metadata": {},
   "outputs": [],
   "source": []
  },
  {
   "cell_type": "markdown",
   "id": "b92bb511",
   "metadata": {},
   "source": [
    "# Exercise 6"
   ]
  },
  {
   "cell_type": "markdown",
   "id": "59dad336",
   "metadata": {},
   "source": [
    "Calculate how many years you need to obtain a certain amount by starting with an initial amount for a given interest rate"
   ]
  },
  {
   "cell_type": "code",
   "execution_count": 15,
   "id": "f73b3627",
   "metadata": {},
   "outputs": [],
   "source": [
    "amounts = [1000,1200,1300]\n",
    "target = 2000\n",
    "interest_rates = [0.02,0.05,0.1]"
   ]
  },
  {
   "cell_type": "markdown",
   "id": "d1389ed3",
   "metadata": {},
   "source": [
    "You can use your previous code from exercise 2 and reuse it in a function:"
   ]
  },
  {
   "cell_type": "code",
   "execution_count": 16,
   "id": "3b0d9ba7",
   "metadata": {},
   "outputs": [],
   "source": [
    "# Define function\n",
    "# ..."
   ]
  },
  {
   "cell_type": "code",
   "execution_count": 17,
   "id": "6262b082",
   "metadata": {},
   "outputs": [],
   "source": [
    "# Loop over amounts and interest rates and call function\n",
    "# Print an informative line of code\n",
    "# ..."
   ]
  },
  {
   "cell_type": "code",
   "execution_count": null,
   "id": "530384f3",
   "metadata": {},
   "outputs": [],
   "source": []
  },
  {
   "cell_type": "markdown",
   "id": "28fdbc00",
   "metadata": {},
   "source": [
    "# Exercise 7"
   ]
  },
  {
   "cell_type": "markdown",
   "id": "151f628d",
   "metadata": {},
   "source": [
    "Calculate the number of ECTS taught by every member in the dictionary"
   ]
  },
  {
   "cell_type": "code",
   "execution_count": 18,
   "id": "0466f1bd",
   "metadata": {},
   "outputs": [],
   "source": [
    "courses = {\"Johannes\" : \"Web Analytics\", \"Jamal\" : \"DEA\", \"Maurizio\" : \"Simulation\"}\n",
    "ects = {\"Web Analytics\": 15, \"DEA\": 15, \"Simulation\":15}"
   ]
  },
  {
   "cell_type": "code",
   "execution_count": 19,
   "id": "d35b5cb5",
   "metadata": {},
   "outputs": [],
   "source": [
    "# Enter your code here\n",
    "# ...\n"
   ]
  },
  {
   "cell_type": "code",
   "execution_count": null,
   "id": "a32b8a1a",
   "metadata": {},
   "outputs": [],
   "source": []
  },
  {
   "cell_type": "markdown",
   "id": "ee55fbf2",
   "metadata": {},
   "source": [
    "# Exercise 8"
   ]
  },
  {
   "cell_type": "markdown",
   "id": "885403e0",
   "metadata": {},
   "source": [
    "Find the most common letter at the third place in a word:"
   ]
  },
  {
   "cell_type": "code",
   "execution_count": 20,
   "id": "5c27229b",
   "metadata": {},
   "outputs": [],
   "source": [
    "words = [\"Johannes\", \"Jamal\", \"Jamal\", \"Adme\", \"Galina\"]"
   ]
  },
  {
   "cell_type": "code",
   "execution_count": 21,
   "id": "4e3afeae",
   "metadata": {},
   "outputs": [],
   "source": [
    "# Enter your code here\n",
    "# ..."
   ]
  },
  {
   "cell_type": "code",
   "execution_count": null,
   "id": "5f0dc280",
   "metadata": {},
   "outputs": [],
   "source": []
  },
  {
   "cell_type": "markdown",
   "id": "31081adc",
   "metadata": {},
   "source": [
    "# Exercise 9"
   ]
  },
  {
   "cell_type": "markdown",
   "id": "cbbce752",
   "metadata": {},
   "source": [
    "In this exercise we are going to build a decision tree using scikit-learn and pandas. Code some stuff yourself, or find the available modules that can do it for you:"
   ]
  },
  {
   "cell_type": "code",
   "execution_count": 23,
   "id": "df470436",
   "metadata": {},
   "outputs": [
    {
     "name": "stdout",
     "output_type": "stream",
     "text": [
      "   Age Attrition     BusinessTravel  DailyRate              Department  \\\n",
      "1   41       Yes      Travel_Rarely       1102                   Sales   \n",
      "2   49        No  Travel_Frequently        279  Research & Development   \n",
      "3   37       Yes      Travel_Rarely       1373  Research & Development   \n",
      "4   33        No  Travel_Frequently       1392  Research & Development   \n",
      "5   27        No      Travel_Rarely        591  Research & Development   \n",
      "\n",
      "   DistanceFromHome  Education EducationField  EmployeeCount  EmployeeNumber  \\\n",
      "1                 1          2  Life Sciences              1               1   \n",
      "2                 8          1  Life Sciences              1               2   \n",
      "3                 2          2          Other              1               4   \n",
      "4                 3          4  Life Sciences              1               5   \n",
      "5                 2          1        Medical              1               7   \n",
      "\n",
      "   ...  RelationshipSatisfaction StandardHours  StockOptionLevel  \\\n",
      "1  ...                         1            80                 0   \n",
      "2  ...                         4            80                 1   \n",
      "3  ...                         2            80                 0   \n",
      "4  ...                         3            80                 0   \n",
      "5  ...                         4            80                 1   \n",
      "\n",
      "   TotalWorkingYears  TrainingTimesLastYear WorkLifeBalance  YearsAtCompany  \\\n",
      "1                  8                      0               1               6   \n",
      "2                 10                      3               3              10   \n",
      "3                  7                      3               3               0   \n",
      "4                  8                      3               3               8   \n",
      "5                  6                      3               3               2   \n",
      "\n",
      "  YearsInCurrentRole  YearsSinceLastPromotion  YearsWithCurrManager  \n",
      "1                  4                        0                     5  \n",
      "2                  7                        1                     7  \n",
      "3                  0                        0                     0  \n",
      "4                  7                        3                     0  \n",
      "5                  2                        2                     2  \n",
      "\n",
      "[5 rows x 35 columns]\n"
     ]
    }
   ],
   "source": [
    "import pandas as pd\n",
    "import numpy as np\n",
    "\n",
    "# Read csv with pandas, index indicates whether the first column is an index\n",
    "data = pd.read_csv(\"data/attrition.csv\", index_col=0)\n",
    "\n",
    "print(data.head())"
   ]
  },
  {
   "cell_type": "markdown",
   "id": "8805109e",
   "metadata": {},
   "source": [
    "Attrition is our label, so we can split our data into X and y:"
   ]
  },
  {
   "cell_type": "code",
   "execution_count": 24,
   "id": "6a78a67f",
   "metadata": {},
   "outputs": [],
   "source": [
    "y = data['Attrition']\n",
    "X = data.drop('Attrition', axis=1)"
   ]
  },
  {
   "cell_type": "markdown",
   "id": "e5dcdc96",
   "metadata": {},
   "source": [
    "Write the pre-processing functions:"
   ]
  },
  {
   "cell_type": "code",
   "execution_count": 26,
   "id": "39ffefcb",
   "metadata": {},
   "outputs": [],
   "source": [
    "# Create training and test set with function\n",
    "# def splitDataset(X, y ratio):\n",
    "# ..."
   ]
  },
  {
   "cell_type": "code",
   "execution_count": 27,
   "id": "0a64775d",
   "metadata": {},
   "outputs": [],
   "source": [
    "# Convert all attributes in data dataframe\n",
    "# def convertAttribute(column):\n",
    "# ..."
   ]
  },
  {
   "cell_type": "markdown",
   "id": "d44b0371",
   "metadata": {},
   "source": [
    "The pre-processsing:"
   ]
  },
  {
   "cell_type": "code",
   "execution_count": 28,
   "id": "5268a846",
   "metadata": {},
   "outputs": [],
   "source": [
    "# # convert all attributes at once      \n",
    "# for column in X.columns:\n",
    "#     X[column] = convertAttribute(X[column])\n",
    "\n",
    "# y = convertAttribute(y)\n",
    "\n",
    "# # Use our new function to split according to a certain ratio\n",
    "# train_X, test_X, train_y, test_y = splitDataset(X, y, 0.7)"
   ]
  },
  {
   "cell_type": "markdown",
   "id": "f987af99",
   "metadata": {},
   "source": [
    "Build decision tree and calculate accuracy:"
   ]
  },
  {
   "cell_type": "code",
   "execution_count": null,
   "id": "31002378",
   "metadata": {},
   "outputs": [],
   "source": [
    "# # Build tree\n",
    "# #tree = ...\n",
    "# tree.fit(train_X, train_y)\n",
    "\n",
    "# ## Use tree for prediction\n",
    "# y_pred = tree.predict(test_X)\n",
    "\n",
    "# #accuracy = ...\n",
    "# print(accuracy)"
   ]
  }
 ],
 "metadata": {
  "kernelspec": {
   "display_name": "Python 3 (ipykernel)",
   "language": "python",
   "name": "python3"
  },
  "language_info": {
   "codemirror_mode": {
    "name": "ipython",
    "version": 3
   },
   "file_extension": ".py",
   "mimetype": "text/x-python",
   "name": "python",
   "nbconvert_exporter": "python",
   "pygments_lexer": "ipython3",
   "version": "3.9.12"
  }
 },
 "nbformat": 4,
 "nbformat_minor": 5
}
